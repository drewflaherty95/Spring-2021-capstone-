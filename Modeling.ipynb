{
  "nbformat": 4,
  "nbformat_minor": 0,
  "metadata": {
    "colab": {
      "name": "Modeling.ipynb",
      "provenance": [],
      "collapsed_sections": [],
      "toc_visible": true
    },
    "kernelspec": {
      "name": "python3",
      "display_name": "Python 3"
    },
    "language_info": {
      "name": "python"
    }
  },
  "cells": [
    {
      "cell_type": "markdown",
      "metadata": {
        "id": "BoToJ6MzjhB_"
      },
      "source": [
        "#Modeling\n",
        "\n",
        "In the notebook I set up two different approaches to creating model to predict whether or not a company will switch up, down, or neither for the scale at which they report their financial statements. The first approach uses the change in total assets and net income as features, while the second approach will drop those features. I will be using tree based methods to make these predictions, and will score the performance on precision. I use the macro parameter to calculate the precision score since there are three labels instead of two. This takes the unweighted average of the precision for all three categories. I wanted to take the unweighted average, because a weighted average would consider the label 0 as more important because there are more occurences of it in the test set. However, for the purposes of this project, I am more interested in knowing why a company would switch. \n"
      ]
    },
    {
      "cell_type": "markdown",
      "metadata": {
        "id": "1O4YK6-ce9Kw"
      },
      "source": [
        "# Load Libraries and Data"
      ]
    },
    {
      "cell_type": "code",
      "metadata": {
        "colab": {
          "base_uri": "https://localhost:8080/"
        },
        "id": "ekUppykC-gXj",
        "outputId": "191b3f48-779b-4330-a792-e6cc0b4b23bf"
      },
      "source": [
        "from google.colab import drive\n",
        "drive.mount('/content/drive')"
      ],
      "execution_count": null,
      "outputs": [
        {
          "output_type": "stream",
          "text": [
            "Mounted at /content/drive\n"
          ],
          "name": "stdout"
        }
      ]
    },
    {
      "cell_type": "code",
      "metadata": {
        "id": "Wg40g3Sh_otV"
      },
      "source": [
        "import pandas as pd\n",
        "from sklearn.preprocessing import OneHotEncoder\n",
        "from sklearn.model_selection import train_test_split, GridSearchCV\n",
        "import numpy as np\n",
        "from sklearn.tree import DecisionTreeClassifier\n",
        "from sklearn.ensemble import RandomForestClassifier\n",
        "from sklearn.metrics import confusion_matrix, precision_score, make_scorer"
      ],
      "execution_count": null,
      "outputs": []
    },
    {
      "cell_type": "code",
      "metadata": {
        "id": "RR0Drzgo_U1b"
      },
      "source": [
        "cur_path = \"/content/drive/MyDrive/Colab Notebooks/Capstone/\""
      ],
      "execution_count": null,
      "outputs": []
    },
    {
      "cell_type": "code",
      "metadata": {
        "colab": {
          "base_uri": "https://localhost:8080/",
          "height": 343
        },
        "id": "nKp25o1F_oEq",
        "outputId": "27ecbeac-b3ef-4907-dfa8-120612bb17f9"
      },
      "source": [
        "reports = pd.read_csv(cur_path+\"full_switches.csv\")\n",
        "reports.head()"
      ],
      "execution_count": null,
      "outputs": [
        {
          "output_type": "execute_result",
          "data": {
            "text/html": [
              "<div>\n",
              "<style scoped>\n",
              "    .dataframe tbody tr th:only-of-type {\n",
              "        vertical-align: middle;\n",
              "    }\n",
              "\n",
              "    .dataframe tbody tr th {\n",
              "        vertical-align: top;\n",
              "    }\n",
              "\n",
              "    .dataframe thead th {\n",
              "        text-align: right;\n",
              "    }\n",
              "</style>\n",
              "<table border=\"1\" class=\"dataframe\">\n",
              "  <thead>\n",
              "    <tr style=\"text-align: right;\">\n",
              "      <th></th>\n",
              "      <th>cik</th>\n",
              "      <th>switch_type</th>\n",
              "      <th>switch</th>\n",
              "      <th>scale</th>\n",
              "      <th>year</th>\n",
              "      <th>qtr</th>\n",
              "      <th>dates</th>\n",
              "      <th>cash equivalents</th>\n",
              "      <th>total assets</th>\n",
              "      <th>total liabilities</th>\n",
              "      <th>total shareholders equity</th>\n",
              "      <th>net income</th>\n",
              "      <th>ce_change</th>\n",
              "      <th>asset_change</th>\n",
              "      <th>liabilities_change</th>\n",
              "      <th>se_change</th>\n",
              "      <th>net_income_change</th>\n",
              "    </tr>\n",
              "  </thead>\n",
              "  <tbody>\n",
              "    <tr>\n",
              "      <th>0</th>\n",
              "      <td>2034</td>\n",
              "      <td>0</td>\n",
              "      <td>0</td>\n",
              "      <td>thousands</td>\n",
              "      <td>2018</td>\n",
              "      <td>1</td>\n",
              "      <td>2018-03-31</td>\n",
              "      <td>62032000.0</td>\n",
              "      <td>831280000.0</td>\n",
              "      <td>627898000.0</td>\n",
              "      <td>203382000.0</td>\n",
              "      <td>-196635000.0</td>\n",
              "      <td>0.0</td>\n",
              "      <td>0.0</td>\n",
              "      <td>0.0</td>\n",
              "      <td>0.0</td>\n",
              "      <td>0.0</td>\n",
              "    </tr>\n",
              "    <tr>\n",
              "      <th>1</th>\n",
              "      <td>2098</td>\n",
              "      <td>0</td>\n",
              "      <td>0</td>\n",
              "      <td>thousands</td>\n",
              "      <td>2017</td>\n",
              "      <td>3</td>\n",
              "      <td>2017-09-30</td>\n",
              "      <td>7021000.0</td>\n",
              "      <td>110938000.0</td>\n",
              "      <td>60218000.0</td>\n",
              "      <td>50720000.0</td>\n",
              "      <td>1202000.0</td>\n",
              "      <td>0.0</td>\n",
              "      <td>0.0</td>\n",
              "      <td>0.0</td>\n",
              "      <td>0.0</td>\n",
              "      <td>0.0</td>\n",
              "    </tr>\n",
              "    <tr>\n",
              "      <th>2</th>\n",
              "      <td>2098</td>\n",
              "      <td>0</td>\n",
              "      <td>0</td>\n",
              "      <td>thousands</td>\n",
              "      <td>2018</td>\n",
              "      <td>2</td>\n",
              "      <td>2018-06-30</td>\n",
              "      <td>1894000.0</td>\n",
              "      <td>118578000.0</td>\n",
              "      <td>66354000.0</td>\n",
              "      <td>52224000.0</td>\n",
              "      <td>2436000.0</td>\n",
              "      <td>-5127000.0</td>\n",
              "      <td>7640000.0</td>\n",
              "      <td>6136000.0</td>\n",
              "      <td>1504000.0</td>\n",
              "      <td>1234000.0</td>\n",
              "    </tr>\n",
              "    <tr>\n",
              "      <th>3</th>\n",
              "      <td>2098</td>\n",
              "      <td>0</td>\n",
              "      <td>0</td>\n",
              "      <td>thousands</td>\n",
              "      <td>2019</td>\n",
              "      <td>3</td>\n",
              "      <td>2019-09-30</td>\n",
              "      <td>5698000.0</td>\n",
              "      <td>114224000.0</td>\n",
              "      <td>59200000.0</td>\n",
              "      <td>55024000.0</td>\n",
              "      <td>1059000.0</td>\n",
              "      <td>3804000.0</td>\n",
              "      <td>-4354000.0</td>\n",
              "      <td>-7154000.0</td>\n",
              "      <td>2800000.0</td>\n",
              "      <td>-1377000.0</td>\n",
              "    </tr>\n",
              "    <tr>\n",
              "      <th>4</th>\n",
              "      <td>2186</td>\n",
              "      <td>0</td>\n",
              "      <td>0</td>\n",
              "      <td>thousands</td>\n",
              "      <td>2017</td>\n",
              "      <td>3</td>\n",
              "      <td>2017-09-30</td>\n",
              "      <td>8938000.0</td>\n",
              "      <td>46156000.0</td>\n",
              "      <td>9217000.0</td>\n",
              "      <td>36939000.0</td>\n",
              "      <td>600000.0</td>\n",
              "      <td>0.0</td>\n",
              "      <td>0.0</td>\n",
              "      <td>0.0</td>\n",
              "      <td>0.0</td>\n",
              "      <td>0.0</td>\n",
              "    </tr>\n",
              "  </tbody>\n",
              "</table>\n",
              "</div>"
            ],
            "text/plain": [
              "    cik  switch_type  switch  ... liabilities_change  se_change  net_income_change\n",
              "0  2034            0       0  ...                0.0        0.0                0.0\n",
              "1  2098            0       0  ...                0.0        0.0                0.0\n",
              "2  2098            0       0  ...          6136000.0  1504000.0          1234000.0\n",
              "3  2098            0       0  ...         -7154000.0  2800000.0         -1377000.0\n",
              "4  2186            0       0  ...                0.0        0.0                0.0\n",
              "\n",
              "[5 rows x 17 columns]"
            ]
          },
          "metadata": {
            "tags": []
          },
          "execution_count": 32
        }
      ]
    },
    {
      "cell_type": "markdown",
      "metadata": {
        "id": "TSTJLhpKfGrJ"
      },
      "source": [
        "# Modeling Approach 1"
      ]
    },
    {
      "cell_type": "markdown",
      "metadata": {
        "id": "m9MQibnNfAzL"
      },
      "source": [
        "## Data Preprocessing"
      ]
    },
    {
      "cell_type": "markdown",
      "metadata": {
        "id": "qBaYtACMfOft"
      },
      "source": [
        "### Choose features for the model\n",
        "\n",
        "For this approach I am choosing the two features, asset_change and net_income_change, that indicate the change in those two variables from one period to the next"
      ]
    },
    {
      "cell_type": "code",
      "metadata": {
        "id": "IMIoR00gDUgC"
      },
      "source": [
        "X = reports[['scale', 'qtr', 'total assets', 'net income', 'asset_change', 'net_income_change', 'switch']]\n",
        "y = reports['switch_type']"
      ],
      "execution_count": null,
      "outputs": []
    },
    {
      "cell_type": "code",
      "metadata": {
        "id": "8DuvA7EOBnjD"
      },
      "source": [
        "#test/train split\n",
        "#I use a 50/50 split because I oversample the training set later, so it will end up being bigger than the test set\n",
        "X_train, X_test, y_train, y_test = train_test_split(X, y, test_size=0.50, random_state=42)"
      ],
      "execution_count": null,
      "outputs": []
    },
    {
      "cell_type": "code",
      "metadata": {
        "colab": {
          "base_uri": "https://localhost:8080/"
        },
        "id": "teBRkzDUK0-M",
        "outputId": "6a42a974-c3f0-4a76-e3ee-3cc95e62d184"
      },
      "source": [
        "#We need the switch column for oversampling on the training set but it can be dropped from the test set\n",
        "X_test.drop('switch', axis=1, inplace=True)"
      ],
      "execution_count": null,
      "outputs": [
        {
          "output_type": "stream",
          "text": [
            "/usr/local/lib/python3.7/dist-packages/pandas/core/frame.py:4174: SettingWithCopyWarning: \n",
            "A value is trying to be set on a copy of a slice from a DataFrame\n",
            "\n",
            "See the caveats in the documentation: https://pandas.pydata.org/pandas-docs/stable/user_guide/indexing.html#returning-a-view-versus-a-copy\n",
            "  errors=errors,\n"
          ],
          "name": "stderr"
        }
      ]
    },
    {
      "cell_type": "code",
      "metadata": {
        "colab": {
          "base_uri": "https://localhost:8080/",
          "height": 204
        },
        "id": "UthcxBCFGxm1",
        "outputId": "e5aad4bb-c209-4551-9263-36e7042485ec"
      },
      "source": [
        "#Temporarily combine our features and label for oversampling\n",
        "temp=pd.concat([X_train, y_train], axis=1)\n",
        "temp.head()"
      ],
      "execution_count": null,
      "outputs": [
        {
          "output_type": "execute_result",
          "data": {
            "text/html": [
              "<div>\n",
              "<style scoped>\n",
              "    .dataframe tbody tr th:only-of-type {\n",
              "        vertical-align: middle;\n",
              "    }\n",
              "\n",
              "    .dataframe tbody tr th {\n",
              "        vertical-align: top;\n",
              "    }\n",
              "\n",
              "    .dataframe thead th {\n",
              "        text-align: right;\n",
              "    }\n",
              "</style>\n",
              "<table border=\"1\" class=\"dataframe\">\n",
              "  <thead>\n",
              "    <tr style=\"text-align: right;\">\n",
              "      <th></th>\n",
              "      <th>scale</th>\n",
              "      <th>qtr</th>\n",
              "      <th>total assets</th>\n",
              "      <th>net income</th>\n",
              "      <th>asset_change</th>\n",
              "      <th>net_income_change</th>\n",
              "      <th>switch</th>\n",
              "      <th>switch_type</th>\n",
              "    </tr>\n",
              "  </thead>\n",
              "  <tbody>\n",
              "    <tr>\n",
              "      <th>669</th>\n",
              "      <td>ones</td>\n",
              "      <td>3</td>\n",
              "      <td>1.477682e+06</td>\n",
              "      <td>2518.0</td>\n",
              "      <td>0.0</td>\n",
              "      <td>0.0</td>\n",
              "      <td>0</td>\n",
              "      <td>0</td>\n",
              "    </tr>\n",
              "    <tr>\n",
              "      <th>5409</th>\n",
              "      <td>thousands</td>\n",
              "      <td>3</td>\n",
              "      <td>7.355084e+09</td>\n",
              "      <td>210254000.0</td>\n",
              "      <td>62935000.0</td>\n",
              "      <td>95302000.0</td>\n",
              "      <td>0</td>\n",
              "      <td>0</td>\n",
              "    </tr>\n",
              "    <tr>\n",
              "      <th>1910</th>\n",
              "      <td>thousands</td>\n",
              "      <td>2</td>\n",
              "      <td>4.738600e+07</td>\n",
              "      <td>1102000.0</td>\n",
              "      <td>0.0</td>\n",
              "      <td>0.0</td>\n",
              "      <td>0</td>\n",
              "      <td>0</td>\n",
              "    </tr>\n",
              "    <tr>\n",
              "      <th>4074</th>\n",
              "      <td>thousands</td>\n",
              "      <td>2</td>\n",
              "      <td>1.023814e+10</td>\n",
              "      <td>40588000.0</td>\n",
              "      <td>0.0</td>\n",
              "      <td>0.0</td>\n",
              "      <td>0</td>\n",
              "      <td>0</td>\n",
              "    </tr>\n",
              "    <tr>\n",
              "      <th>1152</th>\n",
              "      <td>thousands</td>\n",
              "      <td>3</td>\n",
              "      <td>4.537240e+08</td>\n",
              "      <td>4330000.0</td>\n",
              "      <td>0.0</td>\n",
              "      <td>0.0</td>\n",
              "      <td>0</td>\n",
              "      <td>0</td>\n",
              "    </tr>\n",
              "  </tbody>\n",
              "</table>\n",
              "</div>"
            ],
            "text/plain": [
              "          scale  qtr  total assets  ...  net_income_change  switch  switch_type\n",
              "669        ones    3  1.477682e+06  ...                0.0       0            0\n",
              "5409  thousands    3  7.355084e+09  ...         95302000.0       0            0\n",
              "1910  thousands    2  4.738600e+07  ...                0.0       0            0\n",
              "4074  thousands    2  1.023814e+10  ...                0.0       0            0\n",
              "1152  thousands    3  4.537240e+08  ...                0.0       0            0\n",
              "\n",
              "[5 rows x 8 columns]"
            ]
          },
          "metadata": {
            "tags": []
          },
          "execution_count": 58
        }
      ]
    },
    {
      "cell_type": "markdown",
      "metadata": {
        "id": "zaBwHcGifwg4"
      },
      "source": [
        "### Random Oversampling"
      ]
    },
    {
      "cell_type": "markdown",
      "metadata": {
        "id": "CK1xZ35Ff0j_"
      },
      "source": [
        "I take the number of indices equal to the number of non-switches in the data. This number is used for the number of switches I will randomly sample in order to make those two categories equal"
      ]
    },
    {
      "cell_type": "code",
      "metadata": {
        "colab": {
          "base_uri": "https://localhost:8080/"
        },
        "id": "VUS0zUdYGVxo",
        "outputId": "90ed4897-83e1-42f3-b0a5-823bd635da58"
      },
      "source": [
        "indices = temp[temp['switch'] != 0].index\n",
        "sample_size = len(temp[temp['switch'] == 0])\n",
        "random_indices = np.random.choice(indices, sample_size, replace=True)\n",
        "sample = temp.loc[random_indices]\n",
        "no_switch_sample = temp[temp['switch'] == 0]\n",
        "oversampled_df = pd.concat([sample, no_switch_sample])\n",
        "len(oversampled_df)"
      ],
      "execution_count": null,
      "outputs": [
        {
          "output_type": "execute_result",
          "data": {
            "text/plain": [
              "5686"
            ]
          },
          "metadata": {
            "tags": []
          },
          "execution_count": 60
        }
      ]
    },
    {
      "cell_type": "code",
      "metadata": {
        "id": "lc48lNClEXGH"
      },
      "source": [
        "#splitting the features from the labels again\n",
        "X_train = oversampled_df[['scale', 'qtr', 'total assets', 'net income', 'asset_change', 'net_income_change']]\n",
        "y_train = oversampled_df['switch_type']"
      ],
      "execution_count": null,
      "outputs": []
    },
    {
      "cell_type": "code",
      "metadata": {
        "id": "OD3Bcxl4HfTu"
      },
      "source": [
        "#one-hot encoding the categorical variables\n",
        "X_train = pd.get_dummies(X_train, columns=['scale', 'qtr'])\n",
        "X_test = pd.get_dummies(X_test, columns=['scale', 'qtr'])"
      ],
      "execution_count": null,
      "outputs": []
    },
    {
      "cell_type": "code",
      "metadata": {
        "colab": {
          "base_uri": "https://localhost:8080/",
          "height": 241
        },
        "id": "6rvSVajwH7ot",
        "outputId": "60c65801-8152-4a8f-de92-e2516e88956f"
      },
      "source": [
        "X_train.head()"
      ],
      "execution_count": null,
      "outputs": [
        {
          "output_type": "execute_result",
          "data": {
            "text/html": [
              "<div>\n",
              "<style scoped>\n",
              "    .dataframe tbody tr th:only-of-type {\n",
              "        vertical-align: middle;\n",
              "    }\n",
              "\n",
              "    .dataframe tbody tr th {\n",
              "        vertical-align: top;\n",
              "    }\n",
              "\n",
              "    .dataframe thead th {\n",
              "        text-align: right;\n",
              "    }\n",
              "</style>\n",
              "<table border=\"1\" class=\"dataframe\">\n",
              "  <thead>\n",
              "    <tr style=\"text-align: right;\">\n",
              "      <th></th>\n",
              "      <th>total assets</th>\n",
              "      <th>net income</th>\n",
              "      <th>asset_change</th>\n",
              "      <th>net_income_change</th>\n",
              "      <th>scale_millions</th>\n",
              "      <th>scale_ones</th>\n",
              "      <th>scale_thousands</th>\n",
              "      <th>qtr_1</th>\n",
              "      <th>qtr_2</th>\n",
              "      <th>qtr_3</th>\n",
              "      <th>qtr_4</th>\n",
              "    </tr>\n",
              "  </thead>\n",
              "  <tbody>\n",
              "    <tr>\n",
              "      <th>3745</th>\n",
              "      <td>1.347336e+10</td>\n",
              "      <td>27147000.0</td>\n",
              "      <td>0.0</td>\n",
              "      <td>0.0</td>\n",
              "      <td>0</td>\n",
              "      <td>0</td>\n",
              "      <td>1</td>\n",
              "      <td>0</td>\n",
              "      <td>1</td>\n",
              "      <td>0</td>\n",
              "      <td>0</td>\n",
              "    </tr>\n",
              "    <tr>\n",
              "      <th>1249</th>\n",
              "      <td>4.014710e+05</td>\n",
              "      <td>477685.0</td>\n",
              "      <td>-389482529.0</td>\n",
              "      <td>66685.0</td>\n",
              "      <td>0</td>\n",
              "      <td>1</td>\n",
              "      <td>0</td>\n",
              "      <td>0</td>\n",
              "      <td>1</td>\n",
              "      <td>0</td>\n",
              "      <td>0</td>\n",
              "    </tr>\n",
              "    <tr>\n",
              "      <th>520</th>\n",
              "      <td>2.384294e+09</td>\n",
              "      <td>2813000.0</td>\n",
              "      <td>0.0</td>\n",
              "      <td>0.0</td>\n",
              "      <td>0</td>\n",
              "      <td>0</td>\n",
              "      <td>1</td>\n",
              "      <td>0</td>\n",
              "      <td>0</td>\n",
              "      <td>1</td>\n",
              "      <td>0</td>\n",
              "    </tr>\n",
              "    <tr>\n",
              "      <th>2657</th>\n",
              "      <td>1.040521e+06</td>\n",
              "      <td>1983.0</td>\n",
              "      <td>77556.0</td>\n",
              "      <td>189.0</td>\n",
              "      <td>0</td>\n",
              "      <td>1</td>\n",
              "      <td>0</td>\n",
              "      <td>0</td>\n",
              "      <td>1</td>\n",
              "      <td>0</td>\n",
              "      <td>0</td>\n",
              "    </tr>\n",
              "    <tr>\n",
              "      <th>1098</th>\n",
              "      <td>1.220647e+10</td>\n",
              "      <td>27259000.0</td>\n",
              "      <td>0.0</td>\n",
              "      <td>0.0</td>\n",
              "      <td>0</td>\n",
              "      <td>0</td>\n",
              "      <td>1</td>\n",
              "      <td>0</td>\n",
              "      <td>0</td>\n",
              "      <td>1</td>\n",
              "      <td>0</td>\n",
              "    </tr>\n",
              "  </tbody>\n",
              "</table>\n",
              "</div>"
            ],
            "text/plain": [
              "      total assets  net income  asset_change  ...  qtr_2  qtr_3  qtr_4\n",
              "3745  1.347336e+10  27147000.0           0.0  ...      1      0      0\n",
              "1249  4.014710e+05    477685.0  -389482529.0  ...      1      0      0\n",
              "520   2.384294e+09   2813000.0           0.0  ...      0      1      0\n",
              "2657  1.040521e+06      1983.0       77556.0  ...      1      0      0\n",
              "1098  1.220647e+10  27259000.0           0.0  ...      0      1      0\n",
              "\n",
              "[5 rows x 11 columns]"
            ]
          },
          "metadata": {
            "tags": []
          },
          "execution_count": 63
        }
      ]
    },
    {
      "cell_type": "markdown",
      "metadata": {
        "id": "jUBebfEhgQEB"
      },
      "source": [
        "## Modeling"
      ]
    },
    {
      "cell_type": "markdown",
      "metadata": {
        "id": "BGH-877BgSRf"
      },
      "source": [
        "### Decision Tree Classifier\n",
        "\n",
        "I use a grid search to pick the hyper parameters"
      ]
    },
    {
      "cell_type": "code",
      "metadata": {
        "id": "KHe89puMIlQi"
      },
      "source": [
        "clf = DecisionTreeClassifier()\n",
        "param_grid = {\n",
        "    'max_depth': [5, 10, 15],\n",
        "    'min_samples_split': [2, 3, 4, 5],\n",
        "    'min_samples_leaf': [1, 2, 3, 4]\n",
        "}\n",
        "precision=make_scorer(precision_score, average='macro')\n",
        "grid_search = GridSearchCV(clf, param_grid, scoring=precision, cv=10, n_jobs=-1)"
      ],
      "execution_count": null,
      "outputs": []
    },
    {
      "cell_type": "code",
      "metadata": {
        "colab": {
          "base_uri": "https://localhost:8080/"
        },
        "id": "K1oOS78ycojx",
        "outputId": "3ea1fd41-6859-4e3c-f1a7-c329e1de9ac9"
      },
      "source": [
        "#fit the different parameters to the data\n",
        "grid_search.fit(X_train, y_train)"
      ],
      "execution_count": null,
      "outputs": [
        {
          "output_type": "execute_result",
          "data": {
            "text/plain": [
              "GridSearchCV(cv=10, error_score=nan,\n",
              "             estimator=DecisionTreeClassifier(ccp_alpha=0.0, class_weight=None,\n",
              "                                              criterion='gini', max_depth=None,\n",
              "                                              max_features=None,\n",
              "                                              max_leaf_nodes=None,\n",
              "                                              min_impurity_decrease=0.0,\n",
              "                                              min_impurity_split=None,\n",
              "                                              min_samples_leaf=1,\n",
              "                                              min_samples_split=2,\n",
              "                                              min_weight_fraction_leaf=0.0,\n",
              "                                              presort='deprecated',\n",
              "                                              random_state=None,\n",
              "                                              splitter='best'),\n",
              "             iid='deprecated', n_jobs=-1,\n",
              "             param_grid={'max_depth': [5, 10, 15],\n",
              "                         'min_samples_leaf': [1, 2, 3, 4],\n",
              "                         'min_samples_split': [2, 3, 4, 5]},\n",
              "             pre_dispatch='2*n_jobs', refit=True, return_train_score=False,\n",
              "             scoring=make_scorer(precision_score, average=macro), verbose=0)"
            ]
          },
          "metadata": {
            "tags": []
          },
          "execution_count": 65
        }
      ]
    },
    {
      "cell_type": "code",
      "metadata": {
        "colab": {
          "base_uri": "https://localhost:8080/"
        },
        "id": "wLhtNtQfc7T7",
        "outputId": "a449aa68-6556-4c6d-c63f-9d43e095e46d"
      },
      "source": [
        "#The output for the best parameters is listed below\n",
        "best_grid = grid_search.best_estimator_\n",
        "best_grid"
      ],
      "execution_count": null,
      "outputs": [
        {
          "output_type": "execute_result",
          "data": {
            "text/plain": [
              "DecisionTreeClassifier(ccp_alpha=0.0, class_weight=None, criterion='gini',\n",
              "                       max_depth=15, max_features=None, max_leaf_nodes=None,\n",
              "                       min_impurity_decrease=0.0, min_impurity_split=None,\n",
              "                       min_samples_leaf=1, min_samples_split=5,\n",
              "                       min_weight_fraction_leaf=0.0, presort='deprecated',\n",
              "                       random_state=None, splitter='best')"
            ]
          },
          "metadata": {
            "tags": []
          },
          "execution_count": 66
        }
      ]
    },
    {
      "cell_type": "markdown",
      "metadata": {
        "id": "wVhEMpt0gisy"
      },
      "source": [
        "### Predictions"
      ]
    },
    {
      "cell_type": "code",
      "metadata": {
        "id": "TQMosEVqKVET"
      },
      "source": [
        "pred = best_grid.predict(X_test)\n",
        "cnf_matrix=confusion_matrix(y_test,pred)"
      ],
      "execution_count": null,
      "outputs": []
    },
    {
      "cell_type": "code",
      "metadata": {
        "colab": {
          "base_uri": "https://localhost:8080/"
        },
        "id": "tDnWziqmK81P",
        "outputId": "904df73e-4db8-4edc-dd8f-48967a95c02f"
      },
      "source": [
        "# 3x3 confusion matrix\n",
        "print(cnf_matrix)"
      ],
      "execution_count": null,
      "outputs": [
        {
          "output_type": "stream",
          "text": [
            "[[   2   45    0]\n",
            " [  93 2663   90]\n",
            " [   0   33   18]]\n"
          ],
          "name": "stdout"
        }
      ]
    },
    {
      "cell_type": "code",
      "metadata": {
        "id": "0mpyvZGQKwiK",
        "colab": {
          "base_uri": "https://localhost:8080/"
        },
        "outputId": "a7fdea30-9b0d-40bf-c524-fb18df7b60d4"
      },
      "source": [
        "#precision score\n",
        "precision = precision_score(y_test, pred, average='macro') #macro calculates precision for each variable and outputs the unweighted avg\n",
        "print(precision)"
      ],
      "execution_count": null,
      "outputs": [
        {
          "output_type": "stream",
          "text": [
            "0.3864208435475165\n"
          ],
          "name": "stdout"
        }
      ]
    },
    {
      "cell_type": "markdown",
      "metadata": {
        "id": "N7RIJ5LWiUXX"
      },
      "source": [
        "### Random Forest Classifier"
      ]
    },
    {
      "cell_type": "code",
      "metadata": {
        "id": "Xd1O0QxsiNZN"
      },
      "source": [
        "rf = RandomForestClassifier()\n",
        "param_grid = {\n",
        "    'n_estimators': [50, 100, 150],\n",
        "    'max_depth': [5, 10, 15],\n",
        "    'min_samples_split': [2, 3, 4, 5],\n",
        "    'min_samples_leaf': [1, 2, 3, 4]\n",
        "}\n",
        "precision=make_scorer(precision_score, average='macro')\n",
        "grid_search = GridSearchCV(rf, param_grid, scoring=precision, cv=10, n_jobs=-1)"
      ],
      "execution_count": null,
      "outputs": []
    },
    {
      "cell_type": "code",
      "metadata": {
        "colab": {
          "base_uri": "https://localhost:8080/"
        },
        "id": "6pXTrpcphAE9",
        "outputId": "0c86b3d6-490e-4164-98b1-2b898308ef24"
      },
      "source": [
        "grid_search.fit(X_train, y_train)"
      ],
      "execution_count": null,
      "outputs": [
        {
          "output_type": "execute_result",
          "data": {
            "text/plain": [
              "GridSearchCV(cv=10, error_score=nan,\n",
              "             estimator=RandomForestClassifier(bootstrap=True, ccp_alpha=0.0,\n",
              "                                              class_weight=None,\n",
              "                                              criterion='gini', max_depth=None,\n",
              "                                              max_features='auto',\n",
              "                                              max_leaf_nodes=None,\n",
              "                                              max_samples=None,\n",
              "                                              min_impurity_decrease=0.0,\n",
              "                                              min_impurity_split=None,\n",
              "                                              min_samples_leaf=1,\n",
              "                                              min_samples_split=2,\n",
              "                                              min_weight_fraction_leaf=0.0,\n",
              "                                              n_estimators=100, n_jobs=None,\n",
              "                                              oob_score=False,\n",
              "                                              random_state=None, verbose=0,\n",
              "                                              warm_start=False),\n",
              "             iid='deprecated', n_jobs=-1,\n",
              "             param_grid={'max_depth': [5, 10, 15],\n",
              "                         'min_samples_leaf': [1, 2, 3, 4],\n",
              "                         'min_samples_split': [2, 3, 4, 5],\n",
              "                         'n_estimators': [50, 100, 150]},\n",
              "             pre_dispatch='2*n_jobs', refit=True, return_train_score=False,\n",
              "             scoring=make_scorer(precision_score, average=macro), verbose=0)"
            ]
          },
          "metadata": {
            "tags": []
          },
          "execution_count": 75
        }
      ]
    },
    {
      "cell_type": "code",
      "metadata": {
        "colab": {
          "base_uri": "https://localhost:8080/"
        },
        "id": "911_wjpFjF7l",
        "outputId": "5eb45e6a-b83d-4731-c05c-a01c262e0761"
      },
      "source": [
        "#The output for the best parameters is listed below\n",
        "best_grid = grid_search.best_estimator_\n",
        "best_grid"
      ],
      "execution_count": null,
      "outputs": [
        {
          "output_type": "execute_result",
          "data": {
            "text/plain": [
              "RandomForestClassifier(bootstrap=True, ccp_alpha=0.0, class_weight=None,\n",
              "                       criterion='gini', max_depth=15, max_features='auto',\n",
              "                       max_leaf_nodes=None, max_samples=None,\n",
              "                       min_impurity_decrease=0.0, min_impurity_split=None,\n",
              "                       min_samples_leaf=1, min_samples_split=2,\n",
              "                       min_weight_fraction_leaf=0.0, n_estimators=150,\n",
              "                       n_jobs=None, oob_score=False, random_state=None,\n",
              "                       verbose=0, warm_start=False)"
            ]
          },
          "metadata": {
            "tags": []
          },
          "execution_count": 76
        }
      ]
    },
    {
      "cell_type": "markdown",
      "metadata": {
        "id": "FCBWryaYjT2j"
      },
      "source": [
        "### Predictions"
      ]
    },
    {
      "cell_type": "code",
      "metadata": {
        "id": "mAE5j2hJjNSl"
      },
      "source": [
        "pred = best_grid.predict(X_test)\n",
        "cnf_matrix=confusion_matrix(y_test,pred)"
      ],
      "execution_count": null,
      "outputs": []
    },
    {
      "cell_type": "code",
      "metadata": {
        "colab": {
          "base_uri": "https://localhost:8080/"
        },
        "id": "bug93eMfjbiz",
        "outputId": "5217c21a-8ac4-4124-a27f-652737ac374f"
      },
      "source": [
        "# 3x3 confusion matrix\n",
        "print(cnf_matrix)"
      ],
      "execution_count": null,
      "outputs": [
        {
          "output_type": "stream",
          "text": [
            "[[   0   47    0]\n",
            " [  11 2777   58]\n",
            " [   0   30   21]]\n"
          ],
          "name": "stdout"
        }
      ]
    },
    {
      "cell_type": "code",
      "metadata": {
        "colab": {
          "base_uri": "https://localhost:8080/"
        },
        "id": "P4cjbD3XjcRA",
        "outputId": "3c1f6a5f-81a5-4cd9-fbc7-4426933d0748"
      },
      "source": [
        "#precision score\n",
        "precision = precision_score(y_test, pred, average='macro') #macro calculates precision for each variable and outputs the unweighted avg\n",
        "print(precision)"
      ],
      "execution_count": null,
      "outputs": [
        {
          "output_type": "stream",
          "text": [
            "0.41294770238823886\n"
          ],
          "name": "stdout"
        }
      ]
    },
    {
      "cell_type": "markdown",
      "metadata": {
        "id": "igGsVNYBlb6q"
      },
      "source": [
        "The random forest classifier scored slightly better than a single decision tree classifier using this approach. "
      ]
    },
    {
      "cell_type": "markdown",
      "metadata": {
        "id": "371CbtrnkDPG"
      },
      "source": [
        "# Modeling Approach 2\n",
        "\n",
        "This approach does not consider the changes in total assets and net income. "
      ]
    },
    {
      "cell_type": "markdown",
      "metadata": {
        "id": "CT-tzNnpkJ0F"
      },
      "source": [
        "## Data Preprocessing"
      ]
    },
    {
      "cell_type": "code",
      "metadata": {
        "id": "OjoY1RddkLW9"
      },
      "source": [
        "#feature selection\n",
        "X = reports[['scale', 'qtr', 'total assets', 'net income', 'switch']]\n",
        "y = reports['switch_type']"
      ],
      "execution_count": null,
      "outputs": []
    },
    {
      "cell_type": "code",
      "metadata": {
        "id": "RNMmSzJWkXd5"
      },
      "source": [
        "#test/train split\n",
        "X_train, X_test, y_train, y_test = train_test_split(X, y, test_size=0.50, random_state=42)"
      ],
      "execution_count": null,
      "outputs": []
    },
    {
      "cell_type": "code",
      "metadata": {
        "colab": {
          "base_uri": "https://localhost:8080/"
        },
        "id": "e26ymkNBkZkF",
        "outputId": "cdba9e8c-fabe-400d-931e-c0dfef5b3e09"
      },
      "source": [
        "X_test.drop('switch', axis=1, inplace=True)"
      ],
      "execution_count": null,
      "outputs": [
        {
          "output_type": "stream",
          "text": [
            "/usr/local/lib/python3.7/dist-packages/pandas/core/frame.py:4174: SettingWithCopyWarning: \n",
            "A value is trying to be set on a copy of a slice from a DataFrame\n",
            "\n",
            "See the caveats in the documentation: https://pandas.pydata.org/pandas-docs/stable/user_guide/indexing.html#returning-a-view-versus-a-copy\n",
            "  errors=errors,\n"
          ],
          "name": "stderr"
        }
      ]
    },
    {
      "cell_type": "code",
      "metadata": {
        "colab": {
          "base_uri": "https://localhost:8080/",
          "height": 204
        },
        "id": "7jC4REq4kf-9",
        "outputId": "b9213201-9d5d-4269-b3ee-c3402f48db7b"
      },
      "source": [
        "temp=pd.concat([X_train, y_train], axis=1)\n",
        "temp.head()"
      ],
      "execution_count": null,
      "outputs": [
        {
          "output_type": "execute_result",
          "data": {
            "text/html": [
              "<div>\n",
              "<style scoped>\n",
              "    .dataframe tbody tr th:only-of-type {\n",
              "        vertical-align: middle;\n",
              "    }\n",
              "\n",
              "    .dataframe tbody tr th {\n",
              "        vertical-align: top;\n",
              "    }\n",
              "\n",
              "    .dataframe thead th {\n",
              "        text-align: right;\n",
              "    }\n",
              "</style>\n",
              "<table border=\"1\" class=\"dataframe\">\n",
              "  <thead>\n",
              "    <tr style=\"text-align: right;\">\n",
              "      <th></th>\n",
              "      <th>scale</th>\n",
              "      <th>qtr</th>\n",
              "      <th>total assets</th>\n",
              "      <th>net income</th>\n",
              "      <th>switch</th>\n",
              "      <th>switch_type</th>\n",
              "    </tr>\n",
              "  </thead>\n",
              "  <tbody>\n",
              "    <tr>\n",
              "      <th>669</th>\n",
              "      <td>ones</td>\n",
              "      <td>3</td>\n",
              "      <td>1.477682e+06</td>\n",
              "      <td>2518.0</td>\n",
              "      <td>0</td>\n",
              "      <td>0</td>\n",
              "    </tr>\n",
              "    <tr>\n",
              "      <th>5409</th>\n",
              "      <td>thousands</td>\n",
              "      <td>3</td>\n",
              "      <td>7.355084e+09</td>\n",
              "      <td>210254000.0</td>\n",
              "      <td>0</td>\n",
              "      <td>0</td>\n",
              "    </tr>\n",
              "    <tr>\n",
              "      <th>1910</th>\n",
              "      <td>thousands</td>\n",
              "      <td>2</td>\n",
              "      <td>4.738600e+07</td>\n",
              "      <td>1102000.0</td>\n",
              "      <td>0</td>\n",
              "      <td>0</td>\n",
              "    </tr>\n",
              "    <tr>\n",
              "      <th>4074</th>\n",
              "      <td>thousands</td>\n",
              "      <td>2</td>\n",
              "      <td>1.023814e+10</td>\n",
              "      <td>40588000.0</td>\n",
              "      <td>0</td>\n",
              "      <td>0</td>\n",
              "    </tr>\n",
              "    <tr>\n",
              "      <th>1152</th>\n",
              "      <td>thousands</td>\n",
              "      <td>3</td>\n",
              "      <td>4.537240e+08</td>\n",
              "      <td>4330000.0</td>\n",
              "      <td>0</td>\n",
              "      <td>0</td>\n",
              "    </tr>\n",
              "  </tbody>\n",
              "</table>\n",
              "</div>"
            ],
            "text/plain": [
              "          scale  qtr  total assets   net income  switch  switch_type\n",
              "669        ones    3  1.477682e+06       2518.0       0            0\n",
              "5409  thousands    3  7.355084e+09  210254000.0       0            0\n",
              "1910  thousands    2  4.738600e+07    1102000.0       0            0\n",
              "4074  thousands    2  1.023814e+10   40588000.0       0            0\n",
              "1152  thousands    3  4.537240e+08    4330000.0       0            0"
            ]
          },
          "metadata": {
            "tags": []
          },
          "execution_count": 83
        }
      ]
    },
    {
      "cell_type": "markdown",
      "metadata": {
        "id": "d8oiP2eakkzw"
      },
      "source": [
        "### Random Oversampling\n",
        "\n",
        "I use the same method for oversampling as I did in the previous approach. "
      ]
    },
    {
      "cell_type": "code",
      "metadata": {
        "colab": {
          "base_uri": "https://localhost:8080/"
        },
        "id": "pMBm-cOlkn0H",
        "outputId": "d59c09bd-cd24-48f4-85b0-22029e866152"
      },
      "source": [
        "indices = temp[temp['switch'] != 0].index\n",
        "sample_size = len(temp[temp['switch'] == 0])\n",
        "random_indices = np.random.choice(indices, sample_size, replace=True)\n",
        "sample = temp.loc[random_indices]\n",
        "no_switch_sample = temp[temp['switch'] == 0]\n",
        "oversampled_df = pd.concat([sample, no_switch_sample])\n",
        "len(oversampled_df)"
      ],
      "execution_count": null,
      "outputs": [
        {
          "output_type": "execute_result",
          "data": {
            "text/plain": [
              "5686"
            ]
          },
          "metadata": {
            "tags": []
          },
          "execution_count": 84
        }
      ]
    },
    {
      "cell_type": "code",
      "metadata": {
        "id": "QV9bkzimk0zV"
      },
      "source": [
        "#splitting the features from the labels again\n",
        "X_train = oversampled_df[['scale', 'qtr', 'total assets', 'net income']]\n",
        "y_train = oversampled_df['switch_type']"
      ],
      "execution_count": null,
      "outputs": []
    },
    {
      "cell_type": "code",
      "metadata": {
        "id": "_h7P7-pWk48H"
      },
      "source": [
        "#one-hot encoding the categorical variables\n",
        "X_train = pd.get_dummies(X_train, columns=['scale', 'qtr'])\n",
        "X_test = pd.get_dummies(X_test, columns=['scale', 'qtr'])"
      ],
      "execution_count": null,
      "outputs": []
    },
    {
      "cell_type": "code",
      "metadata": {
        "colab": {
          "base_uri": "https://localhost:8080/",
          "height": 204
        },
        "id": "nf0Yj4Djk5zz",
        "outputId": "58256dc7-2e64-4d1a-fe57-e2644808ce2e"
      },
      "source": [
        "X_train.head()"
      ],
      "execution_count": null,
      "outputs": [
        {
          "output_type": "execute_result",
          "data": {
            "text/html": [
              "<div>\n",
              "<style scoped>\n",
              "    .dataframe tbody tr th:only-of-type {\n",
              "        vertical-align: middle;\n",
              "    }\n",
              "\n",
              "    .dataframe tbody tr th {\n",
              "        vertical-align: top;\n",
              "    }\n",
              "\n",
              "    .dataframe thead th {\n",
              "        text-align: right;\n",
              "    }\n",
              "</style>\n",
              "<table border=\"1\" class=\"dataframe\">\n",
              "  <thead>\n",
              "    <tr style=\"text-align: right;\">\n",
              "      <th></th>\n",
              "      <th>total assets</th>\n",
              "      <th>net income</th>\n",
              "      <th>scale_millions</th>\n",
              "      <th>scale_ones</th>\n",
              "      <th>scale_thousands</th>\n",
              "      <th>qtr_1</th>\n",
              "      <th>qtr_2</th>\n",
              "      <th>qtr_3</th>\n",
              "      <th>qtr_4</th>\n",
              "    </tr>\n",
              "  </thead>\n",
              "  <tbody>\n",
              "    <tr>\n",
              "      <th>2411</th>\n",
              "      <td>3.058178e+09</td>\n",
              "      <td>2.397057e+07</td>\n",
              "      <td>0</td>\n",
              "      <td>1</td>\n",
              "      <td>0</td>\n",
              "      <td>0</td>\n",
              "      <td>0</td>\n",
              "      <td>1</td>\n",
              "      <td>0</td>\n",
              "    </tr>\n",
              "    <tr>\n",
              "      <th>2657</th>\n",
              "      <td>1.040521e+06</td>\n",
              "      <td>1.983000e+03</td>\n",
              "      <td>0</td>\n",
              "      <td>1</td>\n",
              "      <td>0</td>\n",
              "      <td>0</td>\n",
              "      <td>1</td>\n",
              "      <td>0</td>\n",
              "      <td>0</td>\n",
              "    </tr>\n",
              "    <tr>\n",
              "      <th>634</th>\n",
              "      <td>2.794456e+09</td>\n",
              "      <td>7.595000e+06</td>\n",
              "      <td>0</td>\n",
              "      <td>0</td>\n",
              "      <td>1</td>\n",
              "      <td>0</td>\n",
              "      <td>0</td>\n",
              "      <td>1</td>\n",
              "      <td>0</td>\n",
              "    </tr>\n",
              "    <tr>\n",
              "      <th>343</th>\n",
              "      <td>1.559892e+12</td>\n",
              "      <td>1.164500e+10</td>\n",
              "      <td>0</td>\n",
              "      <td>0</td>\n",
              "      <td>1</td>\n",
              "      <td>1</td>\n",
              "      <td>0</td>\n",
              "      <td>0</td>\n",
              "      <td>0</td>\n",
              "    </tr>\n",
              "    <tr>\n",
              "      <th>3384</th>\n",
              "      <td>8.815000e+10</td>\n",
              "      <td>1.120000e+09</td>\n",
              "      <td>1</td>\n",
              "      <td>0</td>\n",
              "      <td>0</td>\n",
              "      <td>0</td>\n",
              "      <td>0</td>\n",
              "      <td>1</td>\n",
              "      <td>0</td>\n",
              "    </tr>\n",
              "  </tbody>\n",
              "</table>\n",
              "</div>"
            ],
            "text/plain": [
              "      total assets    net income  scale_millions  ...  qtr_2  qtr_3  qtr_4\n",
              "2411  3.058178e+09  2.397057e+07               0  ...      0      1      0\n",
              "2657  1.040521e+06  1.983000e+03               0  ...      1      0      0\n",
              "634   2.794456e+09  7.595000e+06               0  ...      0      1      0\n",
              "343   1.559892e+12  1.164500e+10               0  ...      0      0      0\n",
              "3384  8.815000e+10  1.120000e+09               1  ...      0      1      0\n",
              "\n",
              "[5 rows x 9 columns]"
            ]
          },
          "metadata": {
            "tags": []
          },
          "execution_count": 88
        }
      ]
    },
    {
      "cell_type": "markdown",
      "metadata": {
        "id": "p6HDCF6yk4Z4"
      },
      "source": [
        "## Modeling"
      ]
    },
    {
      "cell_type": "markdown",
      "metadata": {
        "id": "GVnW1Bp0neet"
      },
      "source": [
        "### Decision Tree Classifier"
      ]
    },
    {
      "cell_type": "code",
      "metadata": {
        "id": "L6WjRExvlAig"
      },
      "source": [
        "clf = DecisionTreeClassifier()\n",
        "param_grid = {\n",
        "    'max_depth': [5, 10, 15],\n",
        "    'min_samples_split': [2, 3, 4, 5],\n",
        "    'min_samples_leaf': [1, 2, 3, 4]\n",
        "}\n",
        "precision=make_scorer(precision_score, average='macro')\n",
        "grid_search = GridSearchCV(clf, param_grid, scoring=precision, cv=10, n_jobs=-1)"
      ],
      "execution_count": null,
      "outputs": []
    },
    {
      "cell_type": "code",
      "metadata": {
        "colab": {
          "base_uri": "https://localhost:8080/"
        },
        "id": "C-_0hFQ5lGAv",
        "outputId": "6031805a-bbc6-45ae-9952-8f2d669515f0"
      },
      "source": [
        "#fit the different parameters to the data\n",
        "grid_search.fit(X_train, y_train)"
      ],
      "execution_count": null,
      "outputs": [
        {
          "output_type": "execute_result",
          "data": {
            "text/plain": [
              "GridSearchCV(cv=10, error_score=nan,\n",
              "             estimator=DecisionTreeClassifier(ccp_alpha=0.0, class_weight=None,\n",
              "                                              criterion='gini', max_depth=None,\n",
              "                                              max_features=None,\n",
              "                                              max_leaf_nodes=None,\n",
              "                                              min_impurity_decrease=0.0,\n",
              "                                              min_impurity_split=None,\n",
              "                                              min_samples_leaf=1,\n",
              "                                              min_samples_split=2,\n",
              "                                              min_weight_fraction_leaf=0.0,\n",
              "                                              presort='deprecated',\n",
              "                                              random_state=None,\n",
              "                                              splitter='best'),\n",
              "             iid='deprecated', n_jobs=-1,\n",
              "             param_grid={'max_depth': [5, 10, 15],\n",
              "                         'min_samples_leaf': [1, 2, 3, 4],\n",
              "                         'min_samples_split': [2, 3, 4, 5]},\n",
              "             pre_dispatch='2*n_jobs', refit=True, return_train_score=False,\n",
              "             scoring=make_scorer(precision_score, average=macro), verbose=0)"
            ]
          },
          "metadata": {
            "tags": []
          },
          "execution_count": 90
        }
      ]
    },
    {
      "cell_type": "code",
      "metadata": {
        "colab": {
          "base_uri": "https://localhost:8080/"
        },
        "id": "djnSKqcklRb6",
        "outputId": "58743c51-cf05-415a-a26e-8f7b745e032d"
      },
      "source": [
        "#The output for the best parameters is listed below\n",
        "best_grid = grid_search.best_estimator_\n",
        "best_grid"
      ],
      "execution_count": null,
      "outputs": [
        {
          "output_type": "execute_result",
          "data": {
            "text/plain": [
              "DecisionTreeClassifier(ccp_alpha=0.0, class_weight=None, criterion='gini',\n",
              "                       max_depth=15, max_features=None, max_leaf_nodes=None,\n",
              "                       min_impurity_decrease=0.0, min_impurity_split=None,\n",
              "                       min_samples_leaf=1, min_samples_split=3,\n",
              "                       min_weight_fraction_leaf=0.0, presort='deprecated',\n",
              "                       random_state=None, splitter='best')"
            ]
          },
          "metadata": {
            "tags": []
          },
          "execution_count": 91
        }
      ]
    },
    {
      "cell_type": "markdown",
      "metadata": {
        "id": "pLY5fhV3lk32"
      },
      "source": [
        "### Predictions"
      ]
    },
    {
      "cell_type": "code",
      "metadata": {
        "id": "k4dPlN2dlSTI"
      },
      "source": [
        "pred = best_grid.predict(X_test)\n",
        "cnf_matrix=confusion_matrix(y_test,pred)"
      ],
      "execution_count": null,
      "outputs": []
    },
    {
      "cell_type": "code",
      "metadata": {
        "colab": {
          "base_uri": "https://localhost:8080/"
        },
        "id": "nYmL1oNilphk",
        "outputId": "ba8ae809-79b1-4978-db20-36baebdc19ef"
      },
      "source": [
        "# 3x3 confusion matrix\n",
        "print(cnf_matrix)"
      ],
      "execution_count": null,
      "outputs": [
        {
          "output_type": "stream",
          "text": [
            "[[   1   46    0]\n",
            " [ 102 2693   51]\n",
            " [   0   36   15]]\n"
          ],
          "name": "stdout"
        }
      ]
    },
    {
      "cell_type": "code",
      "metadata": {
        "colab": {
          "base_uri": "https://localhost:8080/"
        },
        "id": "6J4gufmhlsSj",
        "outputId": "7fbdfa6c-ba2f-4aae-8fcf-0090a56a53c3"
      },
      "source": [
        "#precision score\n",
        "precision = precision_score(y_test, pred, average='macro') #macro calculates precision for each variable and outputs the unweighted avg\n",
        "print(precision)"
      ],
      "execution_count": null,
      "outputs": [
        {
          "output_type": "stream",
          "text": [
            "0.40247730519575176\n"
          ],
          "name": "stdout"
        }
      ]
    },
    {
      "cell_type": "markdown",
      "metadata": {
        "id": "dd3RjtWgl6Vt"
      },
      "source": [
        "The decision tree classifier without the two change variables performed almost as well as the random forest classifier that consdiered the two change variables. "
      ]
    },
    {
      "cell_type": "markdown",
      "metadata": {
        "id": "_hyZWC4bmHG_"
      },
      "source": [
        "### Random Forest Classifier"
      ]
    },
    {
      "cell_type": "code",
      "metadata": {
        "id": "S0PxKz7QmMn2"
      },
      "source": [
        "rf = RandomForestClassifier()\n",
        "param_grid = {\n",
        "    'n_estimators': [50, 100, 150],\n",
        "    'max_depth': [5, 10, 15],\n",
        "    'min_samples_split': [2, 3, 4, 5],\n",
        "    'min_samples_leaf': [1, 2, 3, 4]\n",
        "}\n",
        "precision=make_scorer(precision_score, average='macro')\n",
        "grid_search = GridSearchCV(rf, param_grid, scoring=precision, cv=10, n_jobs=-1)"
      ],
      "execution_count": null,
      "outputs": []
    },
    {
      "cell_type": "code",
      "metadata": {
        "colab": {
          "base_uri": "https://localhost:8080/"
        },
        "id": "0b-IsXe6nA82",
        "outputId": "f76d06cc-aa3d-474e-d5af-d9f82b7a3a1e"
      },
      "source": [
        "grid_search.fit(X_train, y_train)"
      ],
      "execution_count": null,
      "outputs": [
        {
          "output_type": "execute_result",
          "data": {
            "text/plain": [
              "GridSearchCV(cv=10, error_score=nan,\n",
              "             estimator=RandomForestClassifier(bootstrap=True, ccp_alpha=0.0,\n",
              "                                              class_weight=None,\n",
              "                                              criterion='gini', max_depth=None,\n",
              "                                              max_features='auto',\n",
              "                                              max_leaf_nodes=None,\n",
              "                                              max_samples=None,\n",
              "                                              min_impurity_decrease=0.0,\n",
              "                                              min_impurity_split=None,\n",
              "                                              min_samples_leaf=1,\n",
              "                                              min_samples_split=2,\n",
              "                                              min_weight_fraction_leaf=0.0,\n",
              "                                              n_estimators=100, n_jobs=None,\n",
              "                                              oob_score=False,\n",
              "                                              random_state=None, verbose=0,\n",
              "                                              warm_start=False),\n",
              "             iid='deprecated', n_jobs=-1,\n",
              "             param_grid={'max_depth': [5, 10, 15],\n",
              "                         'min_samples_leaf': [1, 2, 3, 4],\n",
              "                         'min_samples_split': [2, 3, 4, 5],\n",
              "                         'n_estimators': [50, 100, 150]},\n",
              "             pre_dispatch='2*n_jobs', refit=True, return_train_score=False,\n",
              "             scoring=make_scorer(precision_score, average=macro), verbose=0)"
            ]
          },
          "metadata": {
            "tags": []
          },
          "execution_count": 97
        }
      ]
    },
    {
      "cell_type": "markdown",
      "metadata": {
        "id": "ezQOQvXXnPzY"
      },
      "source": [
        "### Predictions"
      ]
    },
    {
      "cell_type": "code",
      "metadata": {
        "colab": {
          "base_uri": "https://localhost:8080/"
        },
        "id": "TRDllLoKnHzA",
        "outputId": "6af0040b-559c-4cd9-a7b1-8ce65eabbb6d"
      },
      "source": [
        "#The output for the best parameters is listed below\n",
        "best_grid = grid_search.best_estimator_\n",
        "best_grid"
      ],
      "execution_count": null,
      "outputs": [
        {
          "output_type": "execute_result",
          "data": {
            "text/plain": [
              "RandomForestClassifier(bootstrap=True, ccp_alpha=0.0, class_weight=None,\n",
              "                       criterion='gini', max_depth=15, max_features='auto',\n",
              "                       max_leaf_nodes=None, max_samples=None,\n",
              "                       min_impurity_decrease=0.0, min_impurity_split=None,\n",
              "                       min_samples_leaf=1, min_samples_split=4,\n",
              "                       min_weight_fraction_leaf=0.0, n_estimators=100,\n",
              "                       n_jobs=None, oob_score=False, random_state=None,\n",
              "                       verbose=0, warm_start=False)"
            ]
          },
          "metadata": {
            "tags": []
          },
          "execution_count": 98
        }
      ]
    },
    {
      "cell_type": "code",
      "metadata": {
        "id": "TElzjp_gnMBp"
      },
      "source": [
        "pred = best_grid.predict(X_test)\n",
        "cnf_matrix=confusion_matrix(y_test,pred)"
      ],
      "execution_count": null,
      "outputs": []
    },
    {
      "cell_type": "code",
      "metadata": {
        "colab": {
          "base_uri": "https://localhost:8080/"
        },
        "id": "n72X-dL8ni81",
        "outputId": "daeb2057-ec14-44f1-d818-653b3a6be4f8"
      },
      "source": [
        "# 3x3 confusion matrix\n",
        "print(cnf_matrix)"
      ],
      "execution_count": null,
      "outputs": [
        {
          "output_type": "stream",
          "text": [
            "[[   1   46    0]\n",
            " [  29 2780   37]\n",
            " [   0   33   18]]\n"
          ],
          "name": "stdout"
        }
      ]
    },
    {
      "cell_type": "code",
      "metadata": {
        "colab": {
          "base_uri": "https://localhost:8080/"
        },
        "id": "vz-dXyIQno-Y",
        "outputId": "5007bbc7-99a6-49ae-e26a-a197a1cb44f7"
      },
      "source": [
        "#precision score\n",
        "precision = precision_score(y_test, pred, average='macro') #macro calculates precision for each variable and outputs the unweighted avg\n",
        "print(precision)"
      ],
      "execution_count": null,
      "outputs": [
        {
          "output_type": "stream",
          "text": [
            "0.44432467381050805\n"
          ],
          "name": "stdout"
        }
      ]
    },
    {
      "cell_type": "markdown",
      "metadata": {
        "id": "5b6e2kQUpxhD"
      },
      "source": [
        "This was the best achieved precision score, which indicates that change in numerical values might not be super valuable in predicting when a company will switch. "
      ]
    },
    {
      "cell_type": "code",
      "metadata": {
        "id": "UH_oCFyRp9CD"
      },
      "source": [
        ""
      ],
      "execution_count": null,
      "outputs": []
    }
  ]
}