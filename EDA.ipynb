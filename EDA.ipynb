{
  "nbformat": 4,
  "nbformat_minor": 0,
  "metadata": {
    "colab": {
      "name": "EDA.ipynb",
      "provenance": [],
      "collapsed_sections": [],
      "toc_visible": true
    },
    "kernelspec": {
      "name": "python3",
      "display_name": "Python 3"
    },
    "language_info": {
      "name": "python"
    }
  },
  "cells": [
    {
      "cell_type": "markdown",
      "metadata": {
        "id": "ENgRAB2Qu1Fu"
      },
      "source": [
        "#Exploratory Data Analysis\n",
        "This notebook explores the interactions between different variables of interest in the data"
      ]
    },
    {
      "cell_type": "markdown",
      "metadata": {
        "id": "mTXifgdiu_24"
      },
      "source": [
        "#Load libraries and data"
      ]
    },
    {
      "cell_type": "code",
      "metadata": {
        "colab": {
          "base_uri": "https://localhost:8080/"
        },
        "id": "BnqvPjmyge0s",
        "outputId": "979c2fa2-9504-4e19-e598-53fa50943d7e"
      },
      "source": [
        "from google.colab import drive\n",
        "drive.mount('/content/drive')"
      ],
      "execution_count": 38,
      "outputs": [
        {
          "output_type": "stream",
          "text": [
            "Drive already mounted at /content/drive; to attempt to forcibly remount, call drive.mount(\"/content/drive\", force_remount=True).\n"
          ],
          "name": "stdout"
        }
      ]
    },
    {
      "cell_type": "code",
      "metadata": {
        "id": "X7mkeBxrghP2"
      },
      "source": [
        "%matplotlib inline\n",
        "import pandas as pd\n",
        "import numpy as np\n",
        "from matplotlib import pyplot as plt"
      ],
      "execution_count": 39,
      "outputs": []
    },
    {
      "cell_type": "code",
      "metadata": {
        "id": "Rl1CgzqkgtH0"
      },
      "source": [
        "cur_path = \"/content/drive/MyDrive/Colab Notebooks/Capstone/\""
      ],
      "execution_count": 40,
      "outputs": []
    },
    {
      "cell_type": "code",
      "metadata": {
        "colab": {
          "base_uri": "https://localhost:8080/",
          "height": 343
        },
        "id": "oWK-hgncgxZk",
        "outputId": "56e09ffb-5cbc-460b-fcec-56d766c45f9c"
      },
      "source": [
        "#I had two separate datasets because of data collection issues so I merge them here\n",
        "reports = pd.read_csv(cur_path+'10-Q_switches.csv')\n",
        "reports2 = pd.read_csv(cur_path+'10-Q_switches2.csv')\n",
        "reports = pd.concat([reports, reports2])\n",
        "reports.reset_index(inplace=True)\n",
        "reports.drop(['index', 'Unnamed: 0'], axis=1, inplace=True)\n",
        "reports.head()"
      ],
      "execution_count": 41,
      "outputs": [
        {
          "output_type": "execute_result",
          "data": {
            "text/html": [
              "<div>\n",
              "<style scoped>\n",
              "    .dataframe tbody tr th:only-of-type {\n",
              "        vertical-align: middle;\n",
              "    }\n",
              "\n",
              "    .dataframe tbody tr th {\n",
              "        vertical-align: top;\n",
              "    }\n",
              "\n",
              "    .dataframe thead th {\n",
              "        text-align: right;\n",
              "    }\n",
              "</style>\n",
              "<table border=\"1\" class=\"dataframe\">\n",
              "  <thead>\n",
              "    <tr style=\"text-align: right;\">\n",
              "      <th></th>\n",
              "      <th>cik</th>\n",
              "      <th>switch_type</th>\n",
              "      <th>switch</th>\n",
              "      <th>scale</th>\n",
              "      <th>year</th>\n",
              "      <th>qtr</th>\n",
              "      <th>dates</th>\n",
              "      <th>cash equivalents</th>\n",
              "      <th>total assets</th>\n",
              "      <th>total liabilities</th>\n",
              "      <th>total shareholders equity</th>\n",
              "      <th>net income</th>\n",
              "      <th>ce_change</th>\n",
              "      <th>asset_change</th>\n",
              "      <th>liabilities_change</th>\n",
              "      <th>se_change</th>\n",
              "      <th>net_income_change</th>\n",
              "    </tr>\n",
              "  </thead>\n",
              "  <tbody>\n",
              "    <tr>\n",
              "      <th>0</th>\n",
              "      <td>2034</td>\n",
              "      <td>0</td>\n",
              "      <td>0</td>\n",
              "      <td>thousands</td>\n",
              "      <td>2018</td>\n",
              "      <td>1</td>\n",
              "      <td>2018-03-31</td>\n",
              "      <td>62032000.0</td>\n",
              "      <td>831280000.0</td>\n",
              "      <td>627898000.0</td>\n",
              "      <td>203382000.0</td>\n",
              "      <td>-196635000.0</td>\n",
              "      <td>0.0</td>\n",
              "      <td>0.0</td>\n",
              "      <td>0.0</td>\n",
              "      <td>0.0</td>\n",
              "      <td>0.0</td>\n",
              "    </tr>\n",
              "    <tr>\n",
              "      <th>1</th>\n",
              "      <td>2098</td>\n",
              "      <td>0</td>\n",
              "      <td>0</td>\n",
              "      <td>thousands</td>\n",
              "      <td>2017</td>\n",
              "      <td>3</td>\n",
              "      <td>2017-09-30</td>\n",
              "      <td>7021000.0</td>\n",
              "      <td>110938000.0</td>\n",
              "      <td>60218000.0</td>\n",
              "      <td>50720000.0</td>\n",
              "      <td>1202000.0</td>\n",
              "      <td>0.0</td>\n",
              "      <td>0.0</td>\n",
              "      <td>0.0</td>\n",
              "      <td>0.0</td>\n",
              "      <td>0.0</td>\n",
              "    </tr>\n",
              "    <tr>\n",
              "      <th>2</th>\n",
              "      <td>2098</td>\n",
              "      <td>0</td>\n",
              "      <td>0</td>\n",
              "      <td>thousands</td>\n",
              "      <td>2018</td>\n",
              "      <td>2</td>\n",
              "      <td>2018-06-30</td>\n",
              "      <td>1894000.0</td>\n",
              "      <td>118578000.0</td>\n",
              "      <td>66354000.0</td>\n",
              "      <td>52224000.0</td>\n",
              "      <td>2436000.0</td>\n",
              "      <td>-5127000.0</td>\n",
              "      <td>7640000.0</td>\n",
              "      <td>6136000.0</td>\n",
              "      <td>1504000.0</td>\n",
              "      <td>1234000.0</td>\n",
              "    </tr>\n",
              "    <tr>\n",
              "      <th>3</th>\n",
              "      <td>2098</td>\n",
              "      <td>0</td>\n",
              "      <td>0</td>\n",
              "      <td>thousands</td>\n",
              "      <td>2019</td>\n",
              "      <td>3</td>\n",
              "      <td>2019-09-30</td>\n",
              "      <td>5698000.0</td>\n",
              "      <td>114224000.0</td>\n",
              "      <td>59200000.0</td>\n",
              "      <td>55024000.0</td>\n",
              "      <td>1059000.0</td>\n",
              "      <td>3804000.0</td>\n",
              "      <td>-4354000.0</td>\n",
              "      <td>-7154000.0</td>\n",
              "      <td>2800000.0</td>\n",
              "      <td>-1377000.0</td>\n",
              "    </tr>\n",
              "    <tr>\n",
              "      <th>4</th>\n",
              "      <td>2186</td>\n",
              "      <td>0</td>\n",
              "      <td>0</td>\n",
              "      <td>thousands</td>\n",
              "      <td>2017</td>\n",
              "      <td>3</td>\n",
              "      <td>2017-09-30</td>\n",
              "      <td>8938000.0</td>\n",
              "      <td>46156000.0</td>\n",
              "      <td>9217000.0</td>\n",
              "      <td>36939000.0</td>\n",
              "      <td>600000.0</td>\n",
              "      <td>0.0</td>\n",
              "      <td>0.0</td>\n",
              "      <td>0.0</td>\n",
              "      <td>0.0</td>\n",
              "      <td>0.0</td>\n",
              "    </tr>\n",
              "  </tbody>\n",
              "</table>\n",
              "</div>"
            ],
            "text/plain": [
              "    cik  switch_type  switch  ... liabilities_change  se_change  net_income_change\n",
              "0  2034            0       0  ...                0.0        0.0                0.0\n",
              "1  2098            0       0  ...                0.0        0.0                0.0\n",
              "2  2098            0       0  ...          6136000.0  1504000.0          1234000.0\n",
              "3  2098            0       0  ...         -7154000.0  2800000.0         -1377000.0\n",
              "4  2186            0       0  ...                0.0        0.0                0.0\n",
              "\n",
              "[5 rows x 17 columns]"
            ]
          },
          "metadata": {
            "tags": []
          },
          "execution_count": 41
        }
      ]
    },
    {
      "cell_type": "code",
      "metadata": {
        "id": "hF97e5Y3U2yG"
      },
      "source": [
        "#save the full dataset\n",
        "reports.to_csv(cur_path+\"full_switches.csv\", index=False)"
      ],
      "execution_count": 42,
      "outputs": []
    },
    {
      "cell_type": "code",
      "metadata": {
        "id": "MuusIhkFwLVS"
      },
      "source": [
        "#looking at companies with less than 50 billion in total assets to get rid of outliers\n",
        "df = reports[reports['total assets']<50000000000]\n",
        "df.reset_index(inplace=True)"
      ],
      "execution_count": 43,
      "outputs": []
    },
    {
      "cell_type": "code",
      "metadata": {
        "id": "ibfIgktXTbVD"
      },
      "source": [
        "#make switch type a string variable for graphing purposes\n",
        "df['switch_type']=df['switch_type'].astype(str)"
      ],
      "execution_count": 49,
      "outputs": []
    },
    {
      "cell_type": "code",
      "metadata": {
        "id": "05rjwhM7t-zG"
      },
      "source": [
        "#This code will order the switch type when I graph it\n",
        "switch_type = ['-1', '0', '1']\n",
        "mapping = {scale: i for i, scale in enumerate(switch_type)}\n",
        "key = df['switch_type'].map(mapping)\n",
        "\n",
        "df = df.iloc[key.argsort()]"
      ],
      "execution_count": 52,
      "outputs": []
    },
    {
      "cell_type": "code",
      "metadata": {
        "id": "Dj0brOZO7jte"
      },
      "source": [
        "#This orders the scale\n",
        "scale = ['ones', 'thousands', 'millions']\n",
        "mapping = {scale: i for i, scale in enumerate(scale)}\n",
        "key = df['scale'].map(mapping)\n",
        "\n",
        "df = df.iloc[key.argsort()]"
      ],
      "execution_count": 46,
      "outputs": []
    },
    {
      "cell_type": "markdown",
      "metadata": {
        "id": "vSMW3_9GvzoP"
      },
      "source": [
        "#Plotting\n",
        "Below are an assortment of plots I was looking at to gain some insight from the data. "
      ]
    },
    {
      "cell_type": "markdown",
      "metadata": {
        "id": "gJGNN0sOwsCO"
      },
      "source": [
        "##Interaction between numerical features"
      ]
    },
    {
      "cell_type": "code",
      "metadata": {
        "colab": {
          "base_uri": "https://localhost:8080/",
          "height": 290
        },
        "id": "8VFjbUCpg4c_",
        "outputId": "b1fa254f-d0b8-46fd-83be-7bd504d35911"
      },
      "source": [
        "plt.scatter(df['total assets'], df['total liabilities'] )\n",
        "plt.xlabel(\"Total Assets\")\n",
        "plt.ylabel(\"Total Liabilities\")\n",
        "plt.show()"
      ],
      "execution_count": null,
      "outputs": [
        {
          "output_type": "display_data",
          "data": {
            "image/png": "[encoded data removed]",
            "text/plain": [
              "<Figure size 432x288 with 1 Axes>"
            ]
          },
          "metadata": {
            "tags": [],
            "needs_background": "light"
          }
        }
      ]
    },
    {
      "cell_type": "code",
      "metadata": {
        "colab": {
          "base_uri": "https://localhost:8080/",
          "height": 290
        },
        "id": "DQQtvZu5vtyv",
        "outputId": "ba0d9dd1-632c-44d7-8fe0-5a42ea68c5e2"
      },
      "source": [
        "plt.scatter(df['total assets'], df['net income'] )\n",
        "plt.xlabel(\"Total Assets\")\n",
        "plt.ylabel(\"Net Income\")\n",
        "plt.show()"
      ],
      "execution_count": null,
      "outputs": [
        {
          "output_type": "display_data",
          "data": {
            "image/png": "[encoded data removed]",
            "text/plain": [
              "<Figure size 432x288 with 1 Axes>"
            ]
          },
          "metadata": {
            "tags": [],
            "needs_background": "light"
          }
        }
      ]
    },
    {
      "cell_type": "markdown",
      "metadata": {
        "id": "PD9FjXhwww4d"
      },
      "source": [
        "## How does total assets affect scale?"
      ]
    },
    {
      "cell_type": "code",
      "metadata": {
        "colab": {
          "base_uri": "https://localhost:8080/",
          "height": 279
        },
        "id": "McaoQNyVxj4D",
        "outputId": "1b4b361f-4101-43de-f3f8-509cf2f382d5"
      },
      "source": [
        "plt.scatter(df['total assets'], df['scale'] )\n",
        "plt.xlabel(\"Total Assets\")\n",
        "plt.ylabel(\"Scale\")\n",
        "plt.show()"
      ],
      "execution_count": 29,
      "outputs": [
        {
          "output_type": "display_data",
          "data": {
            "image/png": "[encoded data removed]",
            "text/plain": [
              "<Figure size 432x288 with 1 Axes>"
            ]
          },
          "metadata": {
            "tags": [],
            "needs_background": "light"
          }
        }
      ]
    },
    {
      "cell_type": "code",
      "metadata": {
        "colab": {
          "base_uri": "https://localhost:8080/",
          "height": 279
        },
        "id": "7HbtNKyHUeVj",
        "outputId": "7f0777a0-7e24-4912-ab0d-e7d61c1227cd"
      },
      "source": [
        "plt.scatter(np.log(df['total assets']), df['scale'] )\n",
        "plt.xlabel(\"Total Assets\")\n",
        "plt.ylabel(\"Scale\")\n",
        "plt.show()"
      ],
      "execution_count": 47,
      "outputs": [
        {
          "output_type": "display_data",
          "data": {
            "image/png": "[encoded data removed]",
            "text/plain": [
              "<Figure size 432x288 with 1 Axes>"
            ]
          },
          "metadata": {
            "tags": [],
            "needs_background": "light"
          }
        }
      ]
    },
    {
      "cell_type": "markdown",
      "metadata": {
        "id": "mx0U_tzgw2y_"
      },
      "source": [
        "## Net Income and scale"
      ]
    },
    {
      "cell_type": "code",
      "metadata": {
        "colab": {
          "base_uri": "https://localhost:8080/",
          "height": 279
        },
        "id": "Wy1Twlssw7Hz",
        "outputId": "79116618-9c1f-4010-a464-ae88302b2525"
      },
      "source": [
        "plt.scatter(df['net income'], df['scale'] )\n",
        "plt.xlabel(\"Total Assets\")\n",
        "plt.ylabel(\"Scale\")\n",
        "plt.show()"
      ],
      "execution_count": 56,
      "outputs": [
        {
          "output_type": "display_data",
          "data": {
            "image/png": "[encoded data removed]",
            "text/plain": [
              "<Figure size 432x288 with 1 Axes>"
            ]
          },
          "metadata": {
            "tags": [],
            "needs_background": "light"
          }
        }
      ]
    },
    {
      "cell_type": "code",
      "metadata": {
        "colab": {
          "base_uri": "https://localhost:8080/",
          "height": 279
        },
        "id": "QqDsuYHbw-Vd",
        "outputId": "053d116f-686b-4e73-8796-3c462fddbfa9"
      },
      "source": [
        "plt.scatter(np.log(df['total assets']), df['scale'] )\n",
        "plt.xlabel(\"Total Assets\")\n",
        "plt.ylabel(\"Scale\")\n",
        "plt.show()"
      ],
      "execution_count": 57,
      "outputs": [
        {
          "output_type": "display_data",
          "data": {
            "image/png": "[encoded data removed]",
            "text/plain": [
              "<Figure size 432x288 with 1 Axes>"
            ]
          },
          "metadata": {
            "tags": [],
            "needs_background": "light"
          }
        }
      ]
    },
    {
      "cell_type": "markdown",
      "metadata": {
        "id": "blyHq23MxGrW"
      },
      "source": [
        "## Effect of total assets and net income on switch type"
      ]
    },
    {
      "cell_type": "code",
      "metadata": {
        "colab": {
          "base_uri": "https://localhost:8080/",
          "height": 279
        },
        "id": "obfZmWMuwdVF",
        "outputId": "d35285ca-918e-4b1d-a8a7-5e6b916f48ac"
      },
      "source": [
        "plt.scatter(df['total assets'], df['switch_type'] )\n",
        "plt.xlabel(\"Total Assets\")\n",
        "plt.ylabel(\"Switch Type\")\n",
        "plt.show()"
      ],
      "execution_count": 55,
      "outputs": [
        {
          "output_type": "display_data",
          "data": {
            "image/png": "[encoded data removed]",
            "text/plain": [
              "<Figure size 432x288 with 1 Axes>"
            ]
          },
          "metadata": {
            "tags": [],
            "needs_background": "light"
          }
        }
      ]
    },
    {
      "cell_type": "code",
      "metadata": {
        "colab": {
          "base_uri": "https://localhost:8080/",
          "height": 279
        },
        "id": "Nidc67KTUGXC",
        "outputId": "9138e0c5-8b80-4e4d-ab1d-e3231a8e2f30"
      },
      "source": [
        "plt.scatter(np.log(df['total assets']), df['switch_type'] )\n",
        "plt.xlabel(\"Total Assets\")\n",
        "plt.ylabel(\"Switch Type\")\n",
        "plt.show()"
      ],
      "execution_count": 53,
      "outputs": [
        {
          "output_type": "display_data",
          "data": {
            "image/png": "[encoded data removed]",
            "text/plain": [
              "<Figure size 432x288 with 1 Axes>"
            ]
          },
          "metadata": {
            "tags": [],
            "needs_background": "light"
          }
        }
      ]
    },
    {
      "cell_type": "code",
      "metadata": {
        "colab": {
          "base_uri": "https://localhost:8080/",
          "height": 279
        },
        "id": "LdRsLTXuxTOQ",
        "outputId": "37362c8a-f44e-4b3b-c2eb-411b6762737e"
      },
      "source": [
        "plt.scatter(df['net income'], df['switch_type'] )\n",
        "plt.xlabel(\"net income\")\n",
        "plt.ylabel(\"switch type\")\n",
        "plt.show()"
      ],
      "execution_count": 58,
      "outputs": [
        {
          "output_type": "display_data",
          "data": {
            "image/png": "[encoded data removed]",
            "text/plain": [
              "<Figure size 432x288 with 1 Axes>"
            ]
          },
          "metadata": {
            "tags": [],
            "needs_background": "light"
          }
        }
      ]
    },
    {
      "cell_type": "code",
      "metadata": {
        "colab": {
          "base_uri": "https://localhost:8080/",
          "height": 347
        },
        "id": "N8ckbrvLxenT",
        "outputId": "c197922c-0cc9-4d43-f803-b88babb9b333"
      },
      "source": [
        "plt.scatter(np.log(df['net income']), df['switch_type'] )\n",
        "plt.xlabel(\"net income\")\n",
        "plt.ylabel(\"switch type\")\n",
        "plt.show()"
      ],
      "execution_count": 59,
      "outputs": [
        {
          "output_type": "stream",
          "text": [
            "/usr/local/lib/python3.7/dist-packages/pandas/core/series.py:726: RuntimeWarning: divide by zero encountered in log\n",
            "  result = getattr(ufunc, method)(*inputs, **kwargs)\n",
            "/usr/local/lib/python3.7/dist-packages/pandas/core/series.py:726: RuntimeWarning: invalid value encountered in log\n",
            "  result = getattr(ufunc, method)(*inputs, **kwargs)\n"
          ],
          "name": "stderr"
        },
        {
          "output_type": "display_data",
          "data": {
            "image/png": "[encoded data removed]",
            "text/plain": [
              "<Figure size 432x288 with 1 Axes>"
            ]
          },
          "metadata": {
            "tags": [],
            "needs_background": "light"
          }
        }
      ]
    },
    {
      "cell_type": "markdown",
      "metadata": {
        "id": "L3E2BKRhxjtA"
      },
      "source": [
        "## Do change in values have an effect on the direction of the switch?"
      ]
    },
    {
      "cell_type": "markdown",
      "metadata": {
        "id": "LPTuMb_PxuwJ"
      },
      "source": [
        "### Up switch"
      ]
    },
    {
      "cell_type": "code",
      "metadata": {
        "id": "_RmDBx1Z7_Vf"
      },
      "source": [
        "df_switch= df[df['switch_type']=='1']"
      ],
      "execution_count": 60,
      "outputs": []
    },
    {
      "cell_type": "code",
      "metadata": {
        "colab": {
          "base_uri": "https://localhost:8080/",
          "height": 290
        },
        "id": "CBWE1dM49k92",
        "outputId": "67f62e45-ad0e-40db-9709-32ed41b63469"
      },
      "source": [
        "plt.scatter(df_switch['net_income_change'], df_switch['asset_change'])\n",
        "plt.xlabel(\"net income\")\n",
        "plt.ylabel(\"total assets\")\n",
        "plt.show()"
      ],
      "execution_count": 62,
      "outputs": [
        {
          "output_type": "display_data",
          "data": {
            "image/png": "[encoded data removed]",
            "text/plain": [
              "<Figure size 432x288 with 1 Axes>"
            ]
          },
          "metadata": {
            "tags": [],
            "needs_background": "light"
          }
        }
      ]
    },
    {
      "cell_type": "code",
      "metadata": {
        "id": "atcxnM5fpz4Y",
        "colab": {
          "base_uri": "https://localhost:8080/",
          "height": 347
        },
        "outputId": "dbf0e126-3a7d-4556-de5b-b87d7d6bdbb5"
      },
      "source": [
        "plt.scatter(np.log(df_switch['net_income_change']), np.log(df_switch['asset_change']))\n",
        "plt.xlabel(\"net income\")\n",
        "plt.ylabel(\"total assets\")\n",
        "plt.show()"
      ],
      "execution_count": 63,
      "outputs": [
        {
          "output_type": "stream",
          "text": [
            "/usr/local/lib/python3.7/dist-packages/pandas/core/series.py:726: RuntimeWarning: divide by zero encountered in log\n",
            "  result = getattr(ufunc, method)(*inputs, **kwargs)\n",
            "/usr/local/lib/python3.7/dist-packages/pandas/core/series.py:726: RuntimeWarning: invalid value encountered in log\n",
            "  result = getattr(ufunc, method)(*inputs, **kwargs)\n"
          ],
          "name": "stderr"
        },
        {
          "output_type": "display_data",
          "data": {
            "image/png": "[encoded data removed]",
            "text/plain": [
              "<Figure size 432x288 with 1 Axes>"
            ]
          },
          "metadata": {
            "tags": [],
            "needs_background": "light"
          }
        }
      ]
    },
    {
      "cell_type": "markdown",
      "metadata": {
        "id": "8O94Gk0jySvM"
      },
      "source": [
        "### Down switch"
      ]
    },
    {
      "cell_type": "code",
      "metadata": {
        "id": "8Y_N-EmoyL-I"
      },
      "source": [
        "df_switch= df[df['switch_type']=='-1']"
      ],
      "execution_count": 64,
      "outputs": []
    },
    {
      "cell_type": "code",
      "metadata": {
        "colab": {
          "base_uri": "https://localhost:8080/",
          "height": 290
        },
        "id": "VN5r5HfbyVtJ",
        "outputId": "a19d92c7-9825-4a64-cf86-9f71103c2d7b"
      },
      "source": [
        "plt.scatter(df_switch['net_income_change'], df_switch['asset_change'])\n",
        "plt.xlabel(\"net income\")\n",
        "plt.ylabel(\"total assets\")\n",
        "plt.show()"
      ],
      "execution_count": 65,
      "outputs": [
        {
          "output_type": "display_data",
          "data": {
            "image/png": "[encoded data removed]",
            "text/plain": [
              "<Figure size 432x288 with 1 Axes>"
            ]
          },
          "metadata": {
            "tags": [],
            "needs_background": "light"
          }
        }
      ]
    },
    {
      "cell_type": "code",
      "metadata": {
        "colab": {
          "base_uri": "https://localhost:8080/",
          "height": 347
        },
        "id": "xbViufV1yX6k",
        "outputId": "343b115f-3133-4a05-9c9d-98f937bca4c8"
      },
      "source": [
        "plt.scatter(np.log(df_switch['net_income_change']), np.log(df_switch['asset_change']))\n",
        "plt.xlabel(\"net income\")\n",
        "plt.ylabel(\"total assets\")\n",
        "plt.show()"
      ],
      "execution_count": 66,
      "outputs": [
        {
          "output_type": "stream",
          "text": [
            "/usr/local/lib/python3.7/dist-packages/pandas/core/series.py:726: RuntimeWarning: divide by zero encountered in log\n",
            "  result = getattr(ufunc, method)(*inputs, **kwargs)\n",
            "/usr/local/lib/python3.7/dist-packages/pandas/core/series.py:726: RuntimeWarning: invalid value encountered in log\n",
            "  result = getattr(ufunc, method)(*inputs, **kwargs)\n"
          ],
          "name": "stderr"
        },
        {
          "output_type": "display_data",
          "data": {
            "image/png": "[encoded data removed]",
            "text/plain": [
              "<Figure size 432x288 with 1 Axes>"
            ]
          },
          "metadata": {
            "tags": [],
            "needs_background": "light"
          }
        }
      ]
    },
    {
      "cell_type": "markdown",
      "metadata": {
        "id": "I_BD3XB-yjXD"
      },
      "source": [
        "### The effect of changes of switches in general"
      ]
    },
    {
      "cell_type": "markdown",
      "metadata": {
        "id": "jvOlsNMfy-So"
      },
      "source": [
        "#### Change in income"
      ]
    },
    {
      "cell_type": "code",
      "metadata": {
        "colab": {
          "base_uri": "https://localhost:8080/",
          "height": 347
        },
        "id": "uzqXTIcoyhg8",
        "outputId": "8faa01c7-b620-48b1-a209-f8d6a7961f15"
      },
      "source": [
        "plt.scatter(np.log(df['net_income_change']), df['switch_type'])\n",
        "plt.xlabel(\"net income\")\n",
        "plt.ylabel(\"switch type\")\n",
        "plt.show()"
      ],
      "execution_count": 69,
      "outputs": [
        {
          "output_type": "stream",
          "text": [
            "/usr/local/lib/python3.7/dist-packages/pandas/core/series.py:726: RuntimeWarning: divide by zero encountered in log\n",
            "  result = getattr(ufunc, method)(*inputs, **kwargs)\n",
            "/usr/local/lib/python3.7/dist-packages/pandas/core/series.py:726: RuntimeWarning: invalid value encountered in log\n",
            "  result = getattr(ufunc, method)(*inputs, **kwargs)\n"
          ],
          "name": "stderr"
        },
        {
          "output_type": "display_data",
          "data": {
            "image/png": "[encoded data removed]",
            "text/plain": [
              "<Figure size 432x288 with 1 Axes>"
            ]
          },
          "metadata": {
            "tags": [],
            "needs_background": "light"
          }
        }
      ]
    },
    {
      "cell_type": "code",
      "metadata": {
        "colab": {
          "base_uri": "https://localhost:8080/",
          "height": 279
        },
        "id": "rudFJUQoytR6",
        "outputId": "688cbc2c-9b17-428c-ba08-22ed7b2b7f62"
      },
      "source": [
        "plt.scatter(df['net_income_change'], df['switch_type'])\n",
        "plt.xlabel(\"net income\")\n",
        "plt.ylabel(\"switch type\")\n",
        "plt.show()"
      ],
      "execution_count": 70,
      "outputs": [
        {
          "output_type": "display_data",
          "data": {
            "image/png": "[encoded data removed]",
            "text/plain": [
              "<Figure size 432x288 with 1 Axes>"
            ]
          },
          "metadata": {
            "tags": [],
            "needs_background": "light"
          }
        }
      ]
    },
    {
      "cell_type": "markdown",
      "metadata": {
        "id": "URk64XNUzBCt"
      },
      "source": [
        "#### Change in assets"
      ]
    },
    {
      "cell_type": "code",
      "metadata": {
        "colab": {
          "base_uri": "https://localhost:8080/",
          "height": 347
        },
        "id": "1SIfHNi6y5V1",
        "outputId": "121b89c9-20bf-4f8a-90dd-6f29212d4084"
      },
      "source": [
        "plt.scatter(np.log(df['asset_change']), df['switch_type'])\n",
        "plt.xlabel(\"asset change\")\n",
        "plt.ylabel(\"switch type\")\n",
        "plt.show()"
      ],
      "execution_count": 71,
      "outputs": [
        {
          "output_type": "stream",
          "text": [
            "/usr/local/lib/python3.7/dist-packages/pandas/core/series.py:726: RuntimeWarning: divide by zero encountered in log\n",
            "  result = getattr(ufunc, method)(*inputs, **kwargs)\n",
            "/usr/local/lib/python3.7/dist-packages/pandas/core/series.py:726: RuntimeWarning: invalid value encountered in log\n",
            "  result = getattr(ufunc, method)(*inputs, **kwargs)\n"
          ],
          "name": "stderr"
        },
        {
          "output_type": "display_data",
          "data": {
            "image/png": "[encoded data removed]",
            "text/plain": [
              "<Figure size 432x288 with 1 Axes>"
            ]
          },
          "metadata": {
            "tags": [],
            "needs_background": "light"
          }
        }
      ]
    },
    {
      "cell_type": "code",
      "metadata": {
        "colab": {
          "base_uri": "https://localhost:8080/",
          "height": 279
        },
        "id": "9mxv-_LvzIeS",
        "outputId": "f41b20e8-30d7-44df-f023-9bdc28d8de68"
      },
      "source": [
        "plt.scatter(df['asset_change'], df['switch_type'])\n",
        "plt.xlabel(\"asset change\")\n",
        "plt.ylabel(\"switch type\")\n",
        "plt.show()"
      ],
      "execution_count": 72,
      "outputs": [
        {
          "output_type": "display_data",
          "data": {
            "image/png": "[encoded data removed]",
            "text/plain": [
              "<Figure size 432x288 with 1 Axes>"
            ]
          },
          "metadata": {
            "tags": [],
            "needs_background": "light"
          }
        }
      ]
    },
    {
      "cell_type": "code",
      "metadata": {
        "id": "670cAkAdzOxv"
      },
      "source": [
        ""
      ],
      "execution_count": null,
      "outputs": []
    }
  ]
}