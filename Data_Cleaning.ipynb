{
  "nbformat": 4,
  "nbformat_minor": 0,
  "metadata": {
    "colab": {
      "name": "Data-Cleaning.ipynb",
      "provenance": [],
      "collapsed_sections": [],
      "toc_visible": true
    },
    "kernelspec": {
      "name": "python3",
      "display_name": "Python 3"
    },
    "language_info": {
      "name": "python"
    }
  },
  "cells": [
    {
      "cell_type": "markdown",
      "metadata": {
        "id": "ENOeMcOtrNxR"
      },
      "source": [
        "#Data Cleaning\n",
        "\n",
        "Data cleaning was done on individual statement dataframes which were then merged together for further cleaning. "
      ]
    },
    {
      "cell_type": "markdown",
      "metadata": {
        "id": "pfq-gPU4rV0s"
      },
      "source": [
        "#Load libraries and data"
      ]
    },
    {
      "cell_type": "code",
      "metadata": {
        "colab": {
          "base_uri": "https://localhost:8080/"
        },
        "id": "oWVIEIyBHmEz",
        "outputId": "c2ed22ad-59fc-476b-db02-a989a984c27b"
      },
      "source": [
        "from google.colab import drive\n",
        "drive.mount('/content/drive')"
      ],
      "execution_count": null,
      "outputs": [
        {
          "output_type": "stream",
          "text": [
            "Mounted at /content/drive\n"
          ],
          "name": "stdout"
        }
      ]
    },
    {
      "cell_type": "code",
      "metadata": {
        "id": "4_IPeW5wHsSG"
      },
      "source": [
        "import pandas as pd\n",
        "import numpy as np\n",
        "from datetime import datetime\n",
        "import re"
      ],
      "execution_count": null,
      "outputs": []
    },
    {
      "cell_type": "code",
      "metadata": {
        "id": "qxkS7D1BH7Gr"
      },
      "source": [
        "cur_path = \"/content/drive/MyDrive/Colab Notebooks/Capstone/\""
      ],
      "execution_count": null,
      "outputs": []
    },
    {
      "cell_type": "markdown",
      "metadata": {
        "id": "jPF5H-bHrZKh"
      },
      "source": [
        "## Balance Sheets"
      ]
    },
    {
      "cell_type": "code",
      "metadata": {
        "colab": {
          "base_uri": "https://localhost:8080/",
          "height": 204
        },
        "id": "26yDalSUIDR-",
        "outputId": "b8dab0b0-b861-4792-e798-47ad59cad724"
      },
      "source": [
        "bs_df = pd.read_csv(cur_path+'bs_df3.csv')\n",
        "bs_df2 = pd.read_csv(cur_path+'bs_df4.csv')\n",
        "bal_sheet = pd.concat([bs_df, bs_df2])\n",
        "bal_sheet.drop('Unnamed: 0', axis=1, inplace=True)\n",
        "bal_sheet.dropna(inplace=True)\n",
        "bal_sheet.reset_index(inplace=True)\n",
        "bal_sheet.drop('index', axis=1, inplace=True)\n",
        "bal_sheet.head()"
      ],
      "execution_count": null,
      "outputs": [
        {
          "output_type": "execute_result",
          "data": {
            "text/html": [
              "<div>\n",
              "<style scoped>\n",
              "    .dataframe tbody tr th:only-of-type {\n",
              "        vertical-align: middle;\n",
              "    }\n",
              "\n",
              "    .dataframe tbody tr th {\n",
              "        vertical-align: top;\n",
              "    }\n",
              "\n",
              "    .dataframe thead th {\n",
              "        text-align: right;\n",
              "    }\n",
              "</style>\n",
              "<table border=\"1\" class=\"dataframe\">\n",
              "  <thead>\n",
              "    <tr style=\"text-align: right;\">\n",
              "      <th></th>\n",
              "      <th>cik</th>\n",
              "      <th>dates</th>\n",
              "      <th>scale</th>\n",
              "      <th>total assets</th>\n",
              "      <th>total liabilities</th>\n",
              "      <th>total shareholders equity</th>\n",
              "    </tr>\n",
              "  </thead>\n",
              "  <tbody>\n",
              "    <tr>\n",
              "      <th>0</th>\n",
              "      <td>814926</td>\n",
              "      <td>Sep. 30, 2012</td>\n",
              "      <td>ones</td>\n",
              "      <td>7,625,322</td>\n",
              "      <td>6,301,100</td>\n",
              "      <td>1,324,222</td>\n",
              "    </tr>\n",
              "    <tr>\n",
              "      <th>1</th>\n",
              "      <td>814926</td>\n",
              "      <td>Dec. 31, 2011</td>\n",
              "      <td>ones</td>\n",
              "      <td>4,138,431</td>\n",
              "      <td>2,499,758</td>\n",
              "      <td>1,638,673</td>\n",
              "    </tr>\n",
              "    <tr>\n",
              "      <th>2</th>\n",
              "      <td>818677</td>\n",
              "      <td>Sep. 30, 2012</td>\n",
              "      <td>ones</td>\n",
              "      <td>904,235,504</td>\n",
              "      <td>821,098,610</td>\n",
              "      <td>83,136,894</td>\n",
              "    </tr>\n",
              "    <tr>\n",
              "      <th>3</th>\n",
              "      <td>818677</td>\n",
              "      <td>Mar. 31, 2012</td>\n",
              "      <td>ones</td>\n",
              "      <td>924,636,608</td>\n",
              "      <td>843,864,722</td>\n",
              "      <td>80,771,886</td>\n",
              "    </tr>\n",
              "    <tr>\n",
              "      <th>4</th>\n",
              "      <td>820608</td>\n",
              "      <td>Sep. 30, 2012</td>\n",
              "      <td>ones</td>\n",
              "      <td>610,116</td>\n",
              "      <td>786,884</td>\n",
              "      <td>(176,768)</td>\n",
              "    </tr>\n",
              "  </tbody>\n",
              "</table>\n",
              "</div>"
            ],
            "text/plain": [
              "      cik          dates  ... total liabilities total shareholders equity\n",
              "0  814926  Sep. 30, 2012  ...         6,301,100                 1,324,222\n",
              "1  814926  Dec. 31, 2011  ...         2,499,758                 1,638,673\n",
              "2  818677  Sep. 30, 2012  ...       821,098,610                83,136,894\n",
              "3  818677  Mar. 31, 2012  ...       843,864,722                80,771,886\n",
              "4  820608  Sep. 30, 2012  ...           786,884                 (176,768)\n",
              "\n",
              "[5 rows x 6 columns]"
            ]
          },
          "metadata": {
            "tags": []
          },
          "execution_count": 34
        }
      ]
    },
    {
      "cell_type": "markdown",
      "metadata": {
        "id": "ugj9AgW7rcUs"
      },
      "source": [
        "## Income Statements"
      ]
    },
    {
      "cell_type": "code",
      "metadata": {
        "colab": {
          "base_uri": "https://localhost:8080/",
          "height": 204
        },
        "id": "yMijEOSYKUkY",
        "outputId": "13252b59-de6f-42e0-8af5-d5f74cc687ea"
      },
      "source": [
        "is_df = pd.read_csv(cur_path+'is_df3.csv')\n",
        "is_df2 = pd.read_csv(cur_path+'is_df4.csv')\n",
        "inc_state = pd.concat([is_df, is_df2])\n",
        "inc_state.drop('Unnamed: 0', axis=1, inplace=True)\n",
        "inc_state.dropna(inplace=True)\n",
        "inc_state.reset_index(inplace=True)\n",
        "inc_state.drop('index', axis=1, inplace=True)\n",
        "inc_state.head()"
      ],
      "execution_count": null,
      "outputs": [
        {
          "output_type": "execute_result",
          "data": {
            "text/html": [
              "<div>\n",
              "<style scoped>\n",
              "    .dataframe tbody tr th:only-of-type {\n",
              "        vertical-align: middle;\n",
              "    }\n",
              "\n",
              "    .dataframe tbody tr th {\n",
              "        vertical-align: top;\n",
              "    }\n",
              "\n",
              "    .dataframe thead th {\n",
              "        text-align: right;\n",
              "    }\n",
              "</style>\n",
              "<table border=\"1\" class=\"dataframe\">\n",
              "  <thead>\n",
              "    <tr style=\"text-align: right;\">\n",
              "      <th></th>\n",
              "      <th>cik</th>\n",
              "      <th>scale</th>\n",
              "      <th>dates</th>\n",
              "      <th>net income</th>\n",
              "    </tr>\n",
              "  </thead>\n",
              "  <tbody>\n",
              "    <tr>\n",
              "      <th>0</th>\n",
              "      <td>818677</td>\n",
              "      <td>ones</td>\n",
              "      <td>Sep. 30, 2012</td>\n",
              "      <td>$ 669,790</td>\n",
              "    </tr>\n",
              "    <tr>\n",
              "      <th>1</th>\n",
              "      <td>818677</td>\n",
              "      <td>ones</td>\n",
              "      <td>Sep. 30, 2011</td>\n",
              "      <td>$ 418,453</td>\n",
              "    </tr>\n",
              "    <tr>\n",
              "      <th>2</th>\n",
              "      <td>828678</td>\n",
              "      <td>thousands</td>\n",
              "      <td>Sep. 30, 2012</td>\n",
              "      <td>(33)</td>\n",
              "    </tr>\n",
              "    <tr>\n",
              "      <th>3</th>\n",
              "      <td>828678</td>\n",
              "      <td>thousands</td>\n",
              "      <td>Sep. 30, 2011</td>\n",
              "      <td>(524)</td>\n",
              "    </tr>\n",
              "    <tr>\n",
              "      <th>4</th>\n",
              "      <td>837852</td>\n",
              "      <td>ones</td>\n",
              "      <td>Sep. 30, 2012</td>\n",
              "      <td>$ (4,437,427)</td>\n",
              "    </tr>\n",
              "  </tbody>\n",
              "</table>\n",
              "</div>"
            ],
            "text/plain": [
              "      cik      scale          dates     net income\n",
              "0  818677       ones  Sep. 30, 2012      $ 669,790\n",
              "1  818677       ones  Sep. 30, 2011      $ 418,453\n",
              "2  828678  thousands  Sep. 30, 2012           (33)\n",
              "3  828678  thousands  Sep. 30, 2011          (524)\n",
              "4  837852       ones  Sep. 30, 2012  $ (4,437,427)"
            ]
          },
          "metadata": {
            "tags": []
          },
          "execution_count": 94
        }
      ]
    },
    {
      "cell_type": "markdown",
      "metadata": {
        "id": "udS62m1-re05"
      },
      "source": [
        "## Statements of Cash Flows"
      ]
    },
    {
      "cell_type": "code",
      "metadata": {
        "colab": {
          "base_uri": "https://localhost:8080/",
          "height": 204
        },
        "id": "qK1MF1hHKr8T",
        "outputId": "d091733a-0aff-4657-8ec6-9515446cbe7a"
      },
      "source": [
        "cf_df = pd.read_csv(cur_path+'cf_df3.csv')\n",
        "cf_df2 = pd.read_csv(cur_path+'cf_df4.csv')\n",
        "cash_flow = pd.concat([cf_df, cf_df2])\n",
        "cash_flow.drop('Unnamed: 0', axis=1, inplace=True)\n",
        "cash_flow.dropna(inplace=True)\n",
        "cash_flow.reset_index(inplace=True)\n",
        "cash_flow.drop('index', axis=1, inplace=True)\n",
        "cash_flow.head()"
      ],
      "execution_count": null,
      "outputs": [
        {
          "output_type": "execute_result",
          "data": {
            "text/html": [
              "<div>\n",
              "<style scoped>\n",
              "    .dataframe tbody tr th:only-of-type {\n",
              "        vertical-align: middle;\n",
              "    }\n",
              "\n",
              "    .dataframe tbody tr th {\n",
              "        vertical-align: top;\n",
              "    }\n",
              "\n",
              "    .dataframe thead th {\n",
              "        text-align: right;\n",
              "    }\n",
              "</style>\n",
              "<table border=\"1\" class=\"dataframe\">\n",
              "  <thead>\n",
              "    <tr style=\"text-align: right;\">\n",
              "      <th></th>\n",
              "      <th>cik</th>\n",
              "      <th>scale</th>\n",
              "      <th>dates</th>\n",
              "      <th>cash equivalents</th>\n",
              "    </tr>\n",
              "  </thead>\n",
              "  <tbody>\n",
              "    <tr>\n",
              "      <th>0</th>\n",
              "      <td>814586</td>\n",
              "      <td>ones</td>\n",
              "      <td>Sep. 30, 2012</td>\n",
              "      <td>$ 2,379,565</td>\n",
              "    </tr>\n",
              "    <tr>\n",
              "      <th>1</th>\n",
              "      <td>814586</td>\n",
              "      <td>ones</td>\n",
              "      <td>Sep. 30, 2011</td>\n",
              "      <td>$ 860,683</td>\n",
              "    </tr>\n",
              "    <tr>\n",
              "      <th>2</th>\n",
              "      <td>814926</td>\n",
              "      <td>ones</td>\n",
              "      <td>Sep. 30, 2012</td>\n",
              "      <td>77,692</td>\n",
              "    </tr>\n",
              "    <tr>\n",
              "      <th>3</th>\n",
              "      <td>814926</td>\n",
              "      <td>ones</td>\n",
              "      <td>Sep. 30, 2011</td>\n",
              "      <td>66,464</td>\n",
              "    </tr>\n",
              "    <tr>\n",
              "      <th>4</th>\n",
              "      <td>818677</td>\n",
              "      <td>ones</td>\n",
              "      <td>Sep. 30, 2012</td>\n",
              "      <td>14,408,177</td>\n",
              "    </tr>\n",
              "  </tbody>\n",
              "</table>\n",
              "</div>"
            ],
            "text/plain": [
              "      cik scale          dates cash equivalents\n",
              "0  814586  ones  Sep. 30, 2012      $ 2,379,565\n",
              "1  814586  ones  Sep. 30, 2011        $ 860,683\n",
              "2  814926  ones  Sep. 30, 2012           77,692\n",
              "3  814926  ones  Sep. 30, 2011           66,464\n",
              "4  818677  ones  Sep. 30, 2012       14,408,177"
            ]
          },
          "metadata": {
            "tags": []
          },
          "execution_count": 106
        }
      ]
    },
    {
      "cell_type": "markdown",
      "metadata": {
        "id": "vVUqM1RArhrZ"
      },
      "source": [
        "#Balance Sheet Cleaning"
      ]
    },
    {
      "cell_type": "code",
      "metadata": {
        "colab": {
          "base_uri": "https://localhost:8080/",
          "height": 204
        },
        "id": "eybU3ILcLXvI",
        "outputId": "08b8b5cb-e4f3-4b3a-809a-3e822b0d58fd"
      },
      "source": [
        "#find the indices of rows that did not have real dates and remove them using the index_lst\n",
        "index_lst=[]\n",
        "for i in range(len(bal_sheet)):\n",
        "  date =str(bal_sheet['dates'].iloc[i])\n",
        "  #dates in this current format are 13 characters long\n",
        "  if (len(date)!=13):\n",
        "    index_lst.append(i)\n",
        "#drop rows\n",
        "bal_sheet.drop(index_lst, inplace=True)\n",
        "bal_sheet.reset_index(inplace=True)\n",
        "bal_sheet.head()"
      ],
      "execution_count": null,
      "outputs": [
        {
          "output_type": "execute_result",
          "data": {
            "text/html": [
              "<div>\n",
              "<style scoped>\n",
              "    .dataframe tbody tr th:only-of-type {\n",
              "        vertical-align: middle;\n",
              "    }\n",
              "\n",
              "    .dataframe tbody tr th {\n",
              "        vertical-align: top;\n",
              "    }\n",
              "\n",
              "    .dataframe thead th {\n",
              "        text-align: right;\n",
              "    }\n",
              "</style>\n",
              "<table border=\"1\" class=\"dataframe\">\n",
              "  <thead>\n",
              "    <tr style=\"text-align: right;\">\n",
              "      <th></th>\n",
              "      <th>index</th>\n",
              "      <th>cik</th>\n",
              "      <th>dates</th>\n",
              "      <th>scale</th>\n",
              "      <th>total assets</th>\n",
              "      <th>total liabilities</th>\n",
              "      <th>total shareholders equity</th>\n",
              "    </tr>\n",
              "  </thead>\n",
              "  <tbody>\n",
              "    <tr>\n",
              "      <th>0</th>\n",
              "      <td>0</td>\n",
              "      <td>814926</td>\n",
              "      <td>Sep. 30, 2012</td>\n",
              "      <td>ones</td>\n",
              "      <td>7,625,322</td>\n",
              "      <td>6,301,100</td>\n",
              "      <td>1,324,222</td>\n",
              "    </tr>\n",
              "    <tr>\n",
              "      <th>1</th>\n",
              "      <td>1</td>\n",
              "      <td>814926</td>\n",
              "      <td>Dec. 31, 2011</td>\n",
              "      <td>ones</td>\n",
              "      <td>4,138,431</td>\n",
              "      <td>2,499,758</td>\n",
              "      <td>1,638,673</td>\n",
              "    </tr>\n",
              "    <tr>\n",
              "      <th>2</th>\n",
              "      <td>2</td>\n",
              "      <td>818677</td>\n",
              "      <td>Sep. 30, 2012</td>\n",
              "      <td>ones</td>\n",
              "      <td>904,235,504</td>\n",
              "      <td>821,098,610</td>\n",
              "      <td>83,136,894</td>\n",
              "    </tr>\n",
              "    <tr>\n",
              "      <th>3</th>\n",
              "      <td>3</td>\n",
              "      <td>818677</td>\n",
              "      <td>Mar. 31, 2012</td>\n",
              "      <td>ones</td>\n",
              "      <td>924,636,608</td>\n",
              "      <td>843,864,722</td>\n",
              "      <td>80,771,886</td>\n",
              "    </tr>\n",
              "    <tr>\n",
              "      <th>4</th>\n",
              "      <td>4</td>\n",
              "      <td>820608</td>\n",
              "      <td>Sep. 30, 2012</td>\n",
              "      <td>ones</td>\n",
              "      <td>610,116</td>\n",
              "      <td>786,884</td>\n",
              "      <td>(176,768)</td>\n",
              "    </tr>\n",
              "  </tbody>\n",
              "</table>\n",
              "</div>"
            ],
            "text/plain": [
              "   index     cik  ... total liabilities total shareholders equity\n",
              "0      0  814926  ...         6,301,100                 1,324,222\n",
              "1      1  814926  ...         2,499,758                 1,638,673\n",
              "2      2  818677  ...       821,098,610                83,136,894\n",
              "3      3  818677  ...       843,864,722                80,771,886\n",
              "4      4  820608  ...           786,884                 (176,768)\n",
              "\n",
              "[5 rows x 7 columns]"
            ]
          },
          "metadata": {
            "tags": []
          },
          "execution_count": 35
        }
      ]
    },
    {
      "cell_type": "code",
      "metadata": {
        "colab": {
          "base_uri": "https://localhost:8080/"
        },
        "id": "U0TGzU-cM6Du",
        "outputId": "61484b84-4a72-4600-9556-93ddcd373618"
      },
      "source": [
        "#May didn't have a period after the name of the month which messed up the datetime conversion\n",
        "#I add a period after the name of the month to correct for that\n",
        "for i in range(len(bal_sheet)):\n",
        "  date = str(bal_sheet['dates'].iloc[i])\n",
        "  day = date[5:7]\n",
        "  year = date[9:13]\n",
        "  if 'May' in date:\n",
        "    bal_sheet['dates'].iloc[i] = 'May. '+day+\", \"+year"
      ],
      "execution_count": null,
      "outputs": [
        {
          "output_type": "stream",
          "text": [
            "/usr/local/lib/python3.7/dist-packages/pandas/core/indexing.py:670: SettingWithCopyWarning: \n",
            "A value is trying to be set on a copy of a slice from a DataFrame\n",
            "\n",
            "See the caveats in the documentation: https://pandas.pydata.org/pandas-docs/stable/user_guide/indexing.html#returning-a-view-versus-a-copy\n",
            "  iloc._setitem_with_indexer(indexer, value)\n"
          ],
          "name": "stderr"
        }
      ]
    },
    {
      "cell_type": "code",
      "metadata": {
        "id": "rZvmaho3K5h3"
      },
      "source": [
        "#convert dates column from string to datetime\n",
        "bal_sheet['dates'] = pd.to_datetime(bal_sheet['dates'], format='%b. %d, %Y') "
      ],
      "execution_count": null,
      "outputs": []
    },
    {
      "cell_type": "code",
      "metadata": {
        "id": "JF_J0cfAQkQu"
      },
      "source": [
        "#add quarters for each row based on month\n",
        "qtr_lst=[]\n",
        "for i in range(len(bal_sheet)):\n",
        "  month = bal_sheet['dates'].iloc[i].month\n",
        "  if (month >1) and (month <=4):\n",
        "    qtr_lst.append(1)\n",
        "  elif (month >4) and (month <=7):\n",
        "    qtr_lst.append(2)\n",
        "  elif (month >7) and (month <=10):\n",
        "    qtr_lst.append(3)\n",
        "  else:\n",
        "        qtr_lst.append(4)\n",
        "bal_sheet.insert(3, 'qtr', qtr_lst)"
      ],
      "execution_count": null,
      "outputs": []
    },
    {
      "cell_type": "code",
      "metadata": {
        "id": "jJiQFkKTRaRN"
      },
      "source": [
        "#remove all rows with odd index which were the previous period values from each balance sheet\n",
        "index_lst=[]\n",
        "for i in range(len(bal_sheet)):\n",
        "  if i%2!=0:\n",
        "    index_lst.append(i)\n",
        "bal_sheet.drop(index_lst, inplace=True)"
      ],
      "execution_count": null,
      "outputs": []
    },
    {
      "cell_type": "code",
      "metadata": {
        "id": "ZjzpjtaMS3Aw"
      },
      "source": [
        "#add a years column\n",
        "years=[]\n",
        "for i in range(len(bal_sheet)):\n",
        "  years.append(bal_sheet['dates'].iloc[i].year)\n",
        "bal_sheet.insert(3, 'year', years)"
      ],
      "execution_count": null,
      "outputs": []
    },
    {
      "cell_type": "code",
      "metadata": {
        "id": "nVwVa6xzTwCH"
      },
      "source": [
        "#order by cik, year, and qtr\n",
        "bal_sheet.sort_values(by=['cik', 'year', 'qtr'], inplace=True)"
      ],
      "execution_count": null,
      "outputs": []
    },
    {
      "cell_type": "code",
      "metadata": {
        "colab": {
          "base_uri": "https://localhost:8080/",
          "height": 289
        },
        "id": "tOPgVTKST-i5",
        "outputId": "1acf3db5-3118-47b4-b4d1-05f31f300f3e"
      },
      "source": [
        "#reset index and remove unneccessary columns\n",
        "bal_sheet.reset_index(inplace=True)\n",
        "bal_sheet.drop(['level_0', 'index'], axis=1, inplace=True)\n",
        "bal_sheet.head()"
      ],
      "execution_count": null,
      "outputs": [
        {
          "output_type": "execute_result",
          "data": {
            "text/html": [
              "<div>\n",
              "<style scoped>\n",
              "    .dataframe tbody tr th:only-of-type {\n",
              "        vertical-align: middle;\n",
              "    }\n",
              "\n",
              "    .dataframe tbody tr th {\n",
              "        vertical-align: top;\n",
              "    }\n",
              "\n",
              "    .dataframe thead th {\n",
              "        text-align: right;\n",
              "    }\n",
              "</style>\n",
              "<table border=\"1\" class=\"dataframe\">\n",
              "  <thead>\n",
              "    <tr style=\"text-align: right;\">\n",
              "      <th></th>\n",
              "      <th>cik</th>\n",
              "      <th>dates</th>\n",
              "      <th>year</th>\n",
              "      <th>qtr</th>\n",
              "      <th>scale</th>\n",
              "      <th>total assets</th>\n",
              "      <th>total liabilities</th>\n",
              "      <th>total shareholders equity</th>\n",
              "    </tr>\n",
              "  </thead>\n",
              "  <tbody>\n",
              "    <tr>\n",
              "      <th>0</th>\n",
              "      <td>1750</td>\n",
              "      <td>2012-11-30</td>\n",
              "      <td>2012</td>\n",
              "      <td>4</td>\n",
              "      <td>millions</td>\n",
              "      <td>2,189.3</td>\n",
              "      <td>$ 2,189.3</td>\n",
              "      <td>902.8</td>\n",
              "    </tr>\n",
              "    <tr>\n",
              "      <th>1</th>\n",
              "      <td>1750</td>\n",
              "      <td>2013-08-31</td>\n",
              "      <td>2013</td>\n",
              "      <td>3</td>\n",
              "      <td>millions</td>\n",
              "      <td>2,129.2</td>\n",
              "      <td>$ 2,129.2</td>\n",
              "      <td>938.3</td>\n",
              "    </tr>\n",
              "    <tr>\n",
              "      <th>2</th>\n",
              "      <td>1750</td>\n",
              "      <td>2014-08-31</td>\n",
              "      <td>2014</td>\n",
              "      <td>3</td>\n",
              "      <td>millions</td>\n",
              "      <td>2,205.4</td>\n",
              "      <td>$ 2,205.4</td>\n",
              "      <td>1,003.8</td>\n",
              "    </tr>\n",
              "    <tr>\n",
              "      <th>3</th>\n",
              "      <td>1750</td>\n",
              "      <td>2014-11-30</td>\n",
              "      <td>2014</td>\n",
              "      <td>4</td>\n",
              "      <td>millions</td>\n",
              "      <td>2,227.7us-gaap_Assets</td>\n",
              "      <td>$ 2,227.7us-gaap_LiabilitiesAndStockholdersEquity</td>\n",
              "      <td>1,001.3us-gaap_StockholdersEquity</td>\n",
              "    </tr>\n",
              "    <tr>\n",
              "      <th>4</th>\n",
              "      <td>1961</td>\n",
              "      <td>2013-12-31</td>\n",
              "      <td>2013</td>\n",
              "      <td>4</td>\n",
              "      <td>ones</td>\n",
              "      <td>328,044</td>\n",
              "      <td>$ 328,044</td>\n",
              "      <td>(4,001,698)</td>\n",
              "    </tr>\n",
              "  </tbody>\n",
              "</table>\n",
              "</div>"
            ],
            "text/plain": [
              "    cik  ...          total shareholders equity\n",
              "0  1750  ...                              902.8\n",
              "1  1750  ...                              938.3\n",
              "2  1750  ...                            1,003.8\n",
              "3  1750  ...  1,001.3us-gaap_StockholdersEquity\n",
              "4  1961  ...                        (4,001,698)\n",
              "\n",
              "[5 rows x 8 columns]"
            ]
          },
          "metadata": {
            "tags": []
          },
          "execution_count": 42
        }
      ]
    },
    {
      "cell_type": "markdown",
      "metadata": {
        "id": "Bk8yDtb9sYxH"
      },
      "source": [
        "#Income Statement Cleaning\n",
        "\n",
        "The steps for income statement cleaning and cash flows cleaning is identical to the balance sheet cleaning except for a few things which I will mark. "
      ]
    },
    {
      "cell_type": "code",
      "metadata": {
        "colab": {
          "base_uri": "https://localhost:8080/",
          "height": 204
        },
        "id": "zM3VnHuZUk16",
        "outputId": "14a96b15-2b49-4d26-f5a3-ab46e0994142"
      },
      "source": [
        "index_lst=[]\n",
        "for i in range(len(inc_state)):\n",
        "  date =str(inc_state['dates'].iloc[i])\n",
        "  if (len(date)>13) | (len(date)<10):\n",
        "    index_lst.append(i)\n",
        "inc_state.drop(index_lst, inplace=True)\n",
        "inc_state.reset_index(inplace=True)\n",
        "inc_state.head()"
      ],
      "execution_count": null,
      "outputs": [
        {
          "output_type": "execute_result",
          "data": {
            "text/html": [
              "<div>\n",
              "<style scoped>\n",
              "    .dataframe tbody tr th:only-of-type {\n",
              "        vertical-align: middle;\n",
              "    }\n",
              "\n",
              "    .dataframe tbody tr th {\n",
              "        vertical-align: top;\n",
              "    }\n",
              "\n",
              "    .dataframe thead th {\n",
              "        text-align: right;\n",
              "    }\n",
              "</style>\n",
              "<table border=\"1\" class=\"dataframe\">\n",
              "  <thead>\n",
              "    <tr style=\"text-align: right;\">\n",
              "      <th></th>\n",
              "      <th>index</th>\n",
              "      <th>cik</th>\n",
              "      <th>scale</th>\n",
              "      <th>dates</th>\n",
              "      <th>net income</th>\n",
              "    </tr>\n",
              "  </thead>\n",
              "  <tbody>\n",
              "    <tr>\n",
              "      <th>0</th>\n",
              "      <td>0</td>\n",
              "      <td>818677</td>\n",
              "      <td>ones</td>\n",
              "      <td>Sep. 30, 2012</td>\n",
              "      <td>$ 669,790</td>\n",
              "    </tr>\n",
              "    <tr>\n",
              "      <th>1</th>\n",
              "      <td>1</td>\n",
              "      <td>818677</td>\n",
              "      <td>ones</td>\n",
              "      <td>Sep. 30, 2011</td>\n",
              "      <td>$ 418,453</td>\n",
              "    </tr>\n",
              "    <tr>\n",
              "      <th>2</th>\n",
              "      <td>2</td>\n",
              "      <td>828678</td>\n",
              "      <td>thousands</td>\n",
              "      <td>Sep. 30, 2012</td>\n",
              "      <td>(33)</td>\n",
              "    </tr>\n",
              "    <tr>\n",
              "      <th>3</th>\n",
              "      <td>3</td>\n",
              "      <td>828678</td>\n",
              "      <td>thousands</td>\n",
              "      <td>Sep. 30, 2011</td>\n",
              "      <td>(524)</td>\n",
              "    </tr>\n",
              "    <tr>\n",
              "      <th>4</th>\n",
              "      <td>4</td>\n",
              "      <td>837852</td>\n",
              "      <td>ones</td>\n",
              "      <td>Sep. 30, 2012</td>\n",
              "      <td>$ (4,437,427)</td>\n",
              "    </tr>\n",
              "  </tbody>\n",
              "</table>\n",
              "</div>"
            ],
            "text/plain": [
              "   index     cik      scale          dates     net income\n",
              "0      0  818677       ones  Sep. 30, 2012      $ 669,790\n",
              "1      1  818677       ones  Sep. 30, 2011      $ 418,453\n",
              "2      2  828678  thousands  Sep. 30, 2012           (33)\n",
              "3      3  828678  thousands  Sep. 30, 2011          (524)\n",
              "4      4  837852       ones  Sep. 30, 2012  $ (4,437,427)"
            ]
          },
          "metadata": {
            "tags": []
          },
          "execution_count": 95
        }
      ]
    },
    {
      "cell_type": "code",
      "metadata": {
        "colab": {
          "base_uri": "https://localhost:8080/"
        },
        "id": "_LvOx_YtVIZS",
        "outputId": "cd3513b8-fe85-4081-8885-3105f47b1c31"
      },
      "source": [
        "#I was getting errors when cleaning the May dates so I had to add in an extra condition\n",
        "#This was to account for single digit days\n",
        "for i in range(len(inc_state)):\n",
        "  date = str(inc_state['dates'].iloc[i])\n",
        "  #Single digit days had fewer characters\n",
        "  if len(date)<13:\n",
        "    day = date[4:6]\n",
        "    year = date[8:12]\n",
        "  else:\n",
        "    day = date[5:7]\n",
        "    year = date[9:13]\n",
        "  if 'May' in date:\n",
        "    inc_state['dates'].iloc[i] = 'May. '+day+\", \"+year"
      ],
      "execution_count": null,
      "outputs": [
        {
          "output_type": "stream",
          "text": [
            "/usr/local/lib/python3.7/dist-packages/pandas/core/indexing.py:670: SettingWithCopyWarning: \n",
            "A value is trying to be set on a copy of a slice from a DataFrame\n",
            "\n",
            "See the caveats in the documentation: https://pandas.pydata.org/pandas-docs/stable/user_guide/indexing.html#returning-a-view-versus-a-copy\n",
            "  iloc._setitem_with_indexer(indexer, value)\n"
          ],
          "name": "stderr"
        }
      ]
    },
    {
      "cell_type": "code",
      "metadata": {
        "id": "a0soXosPVSrc"
      },
      "source": [
        "inc_state['dates'] = pd.to_datetime(inc_state['dates'], format='%b. %d, %Y') "
      ],
      "execution_count": null,
      "outputs": []
    },
    {
      "cell_type": "code",
      "metadata": {
        "id": "fM_s_yT-Vd6C"
      },
      "source": [
        "qtr_lst=[]\n",
        "for i in range(len(inc_state)):\n",
        "  month = inc_state['dates'].iloc[i].month\n",
        "  if (month >1) and (month <=4):\n",
        "    qtr_lst.append(1)\n",
        "  elif (month >4) and (month <=7):\n",
        "    qtr_lst.append(2)\n",
        "  elif (month >7) and (month <=10):\n",
        "    qtr_lst.append(3)\n",
        "  else:\n",
        "        qtr_lst.append(4)\n",
        "inc_state.insert(3, 'qtr', qtr_lst)"
      ],
      "execution_count": null,
      "outputs": []
    },
    {
      "cell_type": "code",
      "metadata": {
        "id": "yaL-x1pCVi7n"
      },
      "source": [
        "index_lst=[]\n",
        "for i in range(len(inc_state)):\n",
        "  if i%2!=0:\n",
        "    index_lst.append(i)\n",
        "inc_state.drop(index_lst, inplace=True)"
      ],
      "execution_count": null,
      "outputs": []
    },
    {
      "cell_type": "code",
      "metadata": {
        "id": "mw2hbh7ZVv0A"
      },
      "source": [
        "years=[]\n",
        "for i in range(len(inc_state)):\n",
        "  years.append(inc_state['dates'].iloc[i].year)\n",
        "inc_state.insert(3, 'year', years)"
      ],
      "execution_count": null,
      "outputs": []
    },
    {
      "cell_type": "code",
      "metadata": {
        "id": "KgPln11gc_Fm"
      },
      "source": [
        "inc_state.sort_values(by=['cik', 'year', 'qtr'], inplace=True)"
      ],
      "execution_count": null,
      "outputs": []
    },
    {
      "cell_type": "code",
      "metadata": {
        "colab": {
          "base_uri": "https://localhost:8080/",
          "height": 204
        },
        "id": "88PzyWX1VzAj",
        "outputId": "78b5cbc7-46c3-41e8-f2e4-54e7f4fc0d06"
      },
      "source": [
        "inc_state.reset_index(inplace=True)\n",
        "inc_state.drop(['level_0', 'index'], axis=1, inplace=True)\n",
        "inc_state.head()"
      ],
      "execution_count": null,
      "outputs": [
        {
          "output_type": "execute_result",
          "data": {
            "text/html": [
              "<div>\n",
              "<style scoped>\n",
              "    .dataframe tbody tr th:only-of-type {\n",
              "        vertical-align: middle;\n",
              "    }\n",
              "\n",
              "    .dataframe tbody tr th {\n",
              "        vertical-align: top;\n",
              "    }\n",
              "\n",
              "    .dataframe thead th {\n",
              "        text-align: right;\n",
              "    }\n",
              "</style>\n",
              "<table border=\"1\" class=\"dataframe\">\n",
              "  <thead>\n",
              "    <tr style=\"text-align: right;\">\n",
              "      <th></th>\n",
              "      <th>cik</th>\n",
              "      <th>scale</th>\n",
              "      <th>year</th>\n",
              "      <th>qtr</th>\n",
              "      <th>dates</th>\n",
              "      <th>net income</th>\n",
              "    </tr>\n",
              "  </thead>\n",
              "  <tbody>\n",
              "    <tr>\n",
              "      <th>0</th>\n",
              "      <td>1750</td>\n",
              "      <td>millions</td>\n",
              "      <td>2012</td>\n",
              "      <td>4</td>\n",
              "      <td>2012-11-30</td>\n",
              "      <td>$ 17.9</td>\n",
              "    </tr>\n",
              "    <tr>\n",
              "      <th>1</th>\n",
              "      <td>1750</td>\n",
              "      <td>millions</td>\n",
              "      <td>2013</td>\n",
              "      <td>1</td>\n",
              "      <td>2013-02-28</td>\n",
              "      <td>$ 18.5</td>\n",
              "    </tr>\n",
              "    <tr>\n",
              "      <th>2</th>\n",
              "      <td>1750</td>\n",
              "      <td>millions</td>\n",
              "      <td>2013</td>\n",
              "      <td>4</td>\n",
              "      <td>2013-11-30</td>\n",
              "      <td>$ 20.0</td>\n",
              "    </tr>\n",
              "    <tr>\n",
              "      <th>3</th>\n",
              "      <td>1750</td>\n",
              "      <td>millions</td>\n",
              "      <td>2014</td>\n",
              "      <td>1</td>\n",
              "      <td>2014-02-28</td>\n",
              "      <td>$ 18.0</td>\n",
              "    </tr>\n",
              "    <tr>\n",
              "      <th>4</th>\n",
              "      <td>1750</td>\n",
              "      <td>millions</td>\n",
              "      <td>2014</td>\n",
              "      <td>1</td>\n",
              "      <td>2014-02-28</td>\n",
              "      <td>$ 18.0us-gaap_ProfitLoss</td>\n",
              "    </tr>\n",
              "  </tbody>\n",
              "</table>\n",
              "</div>"
            ],
            "text/plain": [
              "    cik     scale  year  qtr      dates                net income\n",
              "0  1750  millions  2012    4 2012-11-30                    $ 17.9\n",
              "1  1750  millions  2013    1 2013-02-28                    $ 18.5\n",
              "2  1750  millions  2013    4 2013-11-30                    $ 20.0\n",
              "3  1750  millions  2014    1 2014-02-28                    $ 18.0\n",
              "4  1750  millions  2014    1 2014-02-28  $ 18.0us-gaap_ProfitLoss"
            ]
          },
          "metadata": {
            "tags": []
          },
          "execution_count": 102
        }
      ]
    },
    {
      "cell_type": "markdown",
      "metadata": {
        "id": "ZM2dG7AAs2M3"
      },
      "source": [
        "#Cash Flows Cleaning\n",
        "The only difference in this cleaning was with the May dates. This issue was the same as the income statements. "
      ]
    },
    {
      "cell_type": "code",
      "metadata": {
        "id": "ZX0D48xuWE90"
      },
      "source": [
        "index_lst=[]\n",
        "for i in range(len(cash_flow)):\n",
        "  date =str(cash_flow['dates'].iloc[i])\n",
        "  if (len(date)>13) | (len(date)<10):\n",
        "    index_lst.append(i)\n",
        "cash_flow.drop(index_lst, inplace=True)\n",
        "cash_flow.reset_index(inplace=True)"
      ],
      "execution_count": null,
      "outputs": []
    },
    {
      "cell_type": "code",
      "metadata": {
        "colab": {
          "base_uri": "https://localhost:8080/"
        },
        "id": "dnDyzWtMWuyn",
        "outputId": "00ce01c7-19a2-4a6c-a347-6762d1ae4e65"
      },
      "source": [
        "for i in range(len(cash_flow)):\n",
        "  date = str(cash_flow['dates'].iloc[i])\n",
        "  if len(date)<13:\n",
        "    day = date[4:6]\n",
        "    year = date[8:12]\n",
        "  else:\n",
        "    day = date[5:7]\n",
        "    year = date[9:13]\n",
        "  if 'May' in date:\n",
        "    cash_flow['dates'].iloc[i] = 'May. '+day+\", \"+year"
      ],
      "execution_count": null,
      "outputs": [
        {
          "output_type": "stream",
          "text": [
            "/usr/local/lib/python3.7/dist-packages/pandas/core/indexing.py:670: SettingWithCopyWarning: \n",
            "A value is trying to be set on a copy of a slice from a DataFrame\n",
            "\n",
            "See the caveats in the documentation: https://pandas.pydata.org/pandas-docs/stable/user_guide/indexing.html#returning-a-view-versus-a-copy\n",
            "  iloc._setitem_with_indexer(indexer, value)\n"
          ],
          "name": "stderr"
        }
      ]
    },
    {
      "cell_type": "code",
      "metadata": {
        "id": "0ZFPzBg6W3pM"
      },
      "source": [
        "cash_flow['dates'] = pd.to_datetime(cash_flow['dates'], format='%b. %d, %Y') "
      ],
      "execution_count": null,
      "outputs": []
    },
    {
      "cell_type": "code",
      "metadata": {
        "id": "8YlCSL-RW8Kb"
      },
      "source": [
        "qtr_lst=[]\n",
        "for i in range(len(cash_flow)):\n",
        "  month = cash_flow['dates'].iloc[i].month\n",
        "  if (month >1) and (month <=4):\n",
        "    qtr_lst.append(1)\n",
        "  elif (month >4) and (month <=7):\n",
        "    qtr_lst.append(2)\n",
        "  elif (month >7) and (month <=10):\n",
        "    qtr_lst.append(3)\n",
        "  else:\n",
        "        qtr_lst.append(4)\n",
        "cash_flow.insert(3, 'qtr', qtr_lst)"
      ],
      "execution_count": null,
      "outputs": []
    },
    {
      "cell_type": "code",
      "metadata": {
        "id": "cMXhi4FaXC0X"
      },
      "source": [
        "index_lst=[]\n",
        "for i in range(len(cash_flow)):\n",
        "  if i%2!=0:\n",
        "    index_lst.append(i)\n",
        "cash_flow.drop(index_lst, inplace=True)"
      ],
      "execution_count": null,
      "outputs": []
    },
    {
      "cell_type": "code",
      "metadata": {
        "id": "3Q2FJMS-XZZc"
      },
      "source": [
        "years=[]\n",
        "for i in range(len(cash_flow)):\n",
        "  years.append(cash_flow['dates'].iloc[i].year)\n",
        "cash_flow.insert(3, 'year', years)"
      ],
      "execution_count": null,
      "outputs": []
    },
    {
      "cell_type": "code",
      "metadata": {
        "id": "b0wzjdhTdI-I"
      },
      "source": [
        "cash_flow.sort_values(by=['cik', 'year', 'qtr'], inplace=True)"
      ],
      "execution_count": null,
      "outputs": []
    },
    {
      "cell_type": "code",
      "metadata": {
        "colab": {
          "base_uri": "https://localhost:8080/",
          "height": 204
        },
        "id": "7FnXSC26XkXH",
        "outputId": "f8ca9526-f2fa-425d-ec2c-de5d9600cf2e"
      },
      "source": [
        "cash_flow.reset_index(inplace=True)\n",
        "cash_flow.drop(['level_0', 'index'], axis=1, inplace=True)\n",
        "cash_flow.head()"
      ],
      "execution_count": null,
      "outputs": [
        {
          "output_type": "execute_result",
          "data": {
            "text/html": [
              "<div>\n",
              "<style scoped>\n",
              "    .dataframe tbody tr th:only-of-type {\n",
              "        vertical-align: middle;\n",
              "    }\n",
              "\n",
              "    .dataframe tbody tr th {\n",
              "        vertical-align: top;\n",
              "    }\n",
              "\n",
              "    .dataframe thead th {\n",
              "        text-align: right;\n",
              "    }\n",
              "</style>\n",
              "<table border=\"1\" class=\"dataframe\">\n",
              "  <thead>\n",
              "    <tr style=\"text-align: right;\">\n",
              "      <th></th>\n",
              "      <th>cik</th>\n",
              "      <th>scale</th>\n",
              "      <th>year</th>\n",
              "      <th>qtr</th>\n",
              "      <th>dates</th>\n",
              "      <th>cash equivalents</th>\n",
              "    </tr>\n",
              "  </thead>\n",
              "  <tbody>\n",
              "    <tr>\n",
              "      <th>0</th>\n",
              "      <td>1750</td>\n",
              "      <td>millions</td>\n",
              "      <td>2012</td>\n",
              "      <td>4</td>\n",
              "      <td>2012-11-30</td>\n",
              "      <td>$ 69.2</td>\n",
              "    </tr>\n",
              "    <tr>\n",
              "      <th>1</th>\n",
              "      <td>1750</td>\n",
              "      <td>millions</td>\n",
              "      <td>2012</td>\n",
              "      <td>4</td>\n",
              "      <td>2012-11-30</td>\n",
              "      <td>$ 69.2</td>\n",
              "    </tr>\n",
              "    <tr>\n",
              "      <th>2</th>\n",
              "      <td>1750</td>\n",
              "      <td>millions</td>\n",
              "      <td>2013</td>\n",
              "      <td>1</td>\n",
              "      <td>2013-02-28</td>\n",
              "      <td>$ 47.4</td>\n",
              "    </tr>\n",
              "    <tr>\n",
              "      <th>3</th>\n",
              "      <td>1750</td>\n",
              "      <td>millions</td>\n",
              "      <td>2013</td>\n",
              "      <td>3</td>\n",
              "      <td>2013-08-31</td>\n",
              "      <td>$ 90.9</td>\n",
              "    </tr>\n",
              "    <tr>\n",
              "      <th>4</th>\n",
              "      <td>1750</td>\n",
              "      <td>millions</td>\n",
              "      <td>2013</td>\n",
              "      <td>3</td>\n",
              "      <td>2013-08-31</td>\n",
              "      <td>$ 90.9</td>\n",
              "    </tr>\n",
              "  </tbody>\n",
              "</table>\n",
              "</div>"
            ],
            "text/plain": [
              "    cik     scale  year  qtr      dates cash equivalents\n",
              "0  1750  millions  2012    4 2012-11-30           $ 69.2\n",
              "1  1750  millions  2012    4 2012-11-30           $ 69.2\n",
              "2  1750  millions  2013    1 2013-02-28           $ 47.4\n",
              "3  1750  millions  2013    3 2013-08-31           $ 90.9\n",
              "4  1750  millions  2013    3 2013-08-31           $ 90.9"
            ]
          },
          "metadata": {
            "tags": []
          },
          "execution_count": 114
        }
      ]
    },
    {
      "cell_type": "markdown",
      "metadata": {
        "id": "g14ULtrUtd5S"
      },
      "source": [
        "#Merging dataframes\n",
        "I found the doing an outer join was the best way to keep all columns. I joined each dataframe on cik, year, and quarter since I was working with quarterly documents. "
      ]
    },
    {
      "cell_type": "code",
      "metadata": {
        "colab": {
          "base_uri": "https://localhost:8080/",
          "height": 306
        },
        "id": "ZK9hYMTtX2PF",
        "outputId": "49aec9d2-e802-4ca9-ee36-e095eb4a952a"
      },
      "source": [
        "#merge balance sheets with income statements\n",
        "merged = bal_sheet.merge(inc_state, how='outer', left_on=['cik', 'qtr', 'year'], right_on=['cik', 'qtr', 'year']).dropna()\n",
        "merged.rename(columns={'dates_x': 'dates', 'scale_x':'scale'},inplace=True)\n",
        "merged.reset_index(inplace=True)\n",
        "#drop duplicate/unneccessary columns\n",
        "merged.drop(['dates_y', 'scale_y', 'index'], axis=1, inplace=True)\n",
        "merged.head()"
      ],
      "execution_count": null,
      "outputs": [
        {
          "output_type": "execute_result",
          "data": {
            "text/html": [
              "<div>\n",
              "<style scoped>\n",
              "    .dataframe tbody tr th:only-of-type {\n",
              "        vertical-align: middle;\n",
              "    }\n",
              "\n",
              "    .dataframe tbody tr th {\n",
              "        vertical-align: top;\n",
              "    }\n",
              "\n",
              "    .dataframe thead th {\n",
              "        text-align: right;\n",
              "    }\n",
              "</style>\n",
              "<table border=\"1\" class=\"dataframe\">\n",
              "  <thead>\n",
              "    <tr style=\"text-align: right;\">\n",
              "      <th></th>\n",
              "      <th>cik</th>\n",
              "      <th>dates</th>\n",
              "      <th>year</th>\n",
              "      <th>qtr</th>\n",
              "      <th>scale</th>\n",
              "      <th>total assets</th>\n",
              "      <th>total liabilities</th>\n",
              "      <th>total shareholders equity</th>\n",
              "      <th>net income</th>\n",
              "    </tr>\n",
              "  </thead>\n",
              "  <tbody>\n",
              "    <tr>\n",
              "      <th>0</th>\n",
              "      <td>1750</td>\n",
              "      <td>2012-11-30</td>\n",
              "      <td>2012</td>\n",
              "      <td>4</td>\n",
              "      <td>millions</td>\n",
              "      <td>2,189.3</td>\n",
              "      <td>$ 2,189.3</td>\n",
              "      <td>902.8</td>\n",
              "      <td>$ 17.9</td>\n",
              "    </tr>\n",
              "    <tr>\n",
              "      <th>1</th>\n",
              "      <td>1750</td>\n",
              "      <td>2014-11-30</td>\n",
              "      <td>2014</td>\n",
              "      <td>4</td>\n",
              "      <td>millions</td>\n",
              "      <td>2,227.7us-gaap_Assets</td>\n",
              "      <td>$ 2,227.7us-gaap_LiabilitiesAndStockholdersEquity</td>\n",
              "      <td>1,001.3us-gaap_StockholdersEquity</td>\n",
              "      <td>$ 15.2us-gaap_ProfitLoss</td>\n",
              "    </tr>\n",
              "    <tr>\n",
              "      <th>2</th>\n",
              "      <td>2034</td>\n",
              "      <td>2015-12-31</td>\n",
              "      <td>2015</td>\n",
              "      <td>4</td>\n",
              "      <td>thousands</td>\n",
              "      <td>524,394</td>\n",
              "      <td>$ 238,537</td>\n",
              "      <td>285,857</td>\n",
              "      <td>$ 8,270</td>\n",
              "    </tr>\n",
              "    <tr>\n",
              "      <th>3</th>\n",
              "      <td>2034</td>\n",
              "      <td>2016-03-31</td>\n",
              "      <td>2016</td>\n",
              "      <td>1</td>\n",
              "      <td>thousands</td>\n",
              "      <td>544,600</td>\n",
              "      <td>$ 245,749</td>\n",
              "      <td>298,851</td>\n",
              "      <td>$ 10,424</td>\n",
              "    </tr>\n",
              "    <tr>\n",
              "      <th>4</th>\n",
              "      <td>2098</td>\n",
              "      <td>2013-09-30</td>\n",
              "      <td>2013</td>\n",
              "      <td>3</td>\n",
              "      <td>thousands</td>\n",
              "      <td>70,738</td>\n",
              "      <td>36,286</td>\n",
              "      <td>34,452</td>\n",
              "      <td>$ 959</td>\n",
              "    </tr>\n",
              "  </tbody>\n",
              "</table>\n",
              "</div>"
            ],
            "text/plain": [
              "    cik      dates  ...          total shareholders equity                net income\n",
              "0  1750 2012-11-30  ...                              902.8                    $ 17.9\n",
              "1  1750 2014-11-30  ...  1,001.3us-gaap_StockholdersEquity  $ 15.2us-gaap_ProfitLoss\n",
              "2  2034 2015-12-31  ...                            285,857                   $ 8,270\n",
              "3  2034 2016-03-31  ...                            298,851                  $ 10,424\n",
              "4  2098 2013-09-30  ...                             34,452                     $ 959\n",
              "\n",
              "[5 rows x 9 columns]"
            ]
          },
          "metadata": {
            "tags": []
          },
          "execution_count": 115
        }
      ]
    },
    {
      "cell_type": "code",
      "metadata": {
        "colab": {
          "base_uri": "https://localhost:8080/",
          "height": 306
        },
        "id": "W5XIec3lajpu",
        "outputId": "972301df-d964-4339-a787-70980895f362"
      },
      "source": [
        "#merge cash flows with the other two\n",
        "merged = cash_flow.merge(merged, how='outer', left_on=['cik', 'qtr', 'year'], right_on=['cik', 'qtr', 'year']).dropna()\n",
        "merged.rename(columns={'dates_x': 'dates', 'scale_x':'scale'}, inplace=True)\n",
        "merged.reset_index(inplace=True)\n",
        "merged.drop(['dates_y', 'scale_y', 'index'], axis=1, inplace=True)\n",
        "merged.head()"
      ],
      "execution_count": null,
      "outputs": [
        {
          "output_type": "execute_result",
          "data": {
            "text/html": [
              "<div>\n",
              "<style scoped>\n",
              "    .dataframe tbody tr th:only-of-type {\n",
              "        vertical-align: middle;\n",
              "    }\n",
              "\n",
              "    .dataframe tbody tr th {\n",
              "        vertical-align: top;\n",
              "    }\n",
              "\n",
              "    .dataframe thead th {\n",
              "        text-align: right;\n",
              "    }\n",
              "</style>\n",
              "<table border=\"1\" class=\"dataframe\">\n",
              "  <thead>\n",
              "    <tr style=\"text-align: right;\">\n",
              "      <th></th>\n",
              "      <th>cik</th>\n",
              "      <th>scale</th>\n",
              "      <th>year</th>\n",
              "      <th>qtr</th>\n",
              "      <th>dates</th>\n",
              "      <th>cash equivalents</th>\n",
              "      <th>total assets</th>\n",
              "      <th>total liabilities</th>\n",
              "      <th>total shareholders equity</th>\n",
              "      <th>net income</th>\n",
              "    </tr>\n",
              "  </thead>\n",
              "  <tbody>\n",
              "    <tr>\n",
              "      <th>0</th>\n",
              "      <td>1750</td>\n",
              "      <td>millions</td>\n",
              "      <td>2012</td>\n",
              "      <td>4</td>\n",
              "      <td>2012-11-30</td>\n",
              "      <td>$ 69.2</td>\n",
              "      <td>2,189.3</td>\n",
              "      <td>$ 2,189.3</td>\n",
              "      <td>902.8</td>\n",
              "      <td>$ 17.9</td>\n",
              "    </tr>\n",
              "    <tr>\n",
              "      <th>1</th>\n",
              "      <td>1750</td>\n",
              "      <td>millions</td>\n",
              "      <td>2012</td>\n",
              "      <td>4</td>\n",
              "      <td>2012-11-30</td>\n",
              "      <td>$ 69.2</td>\n",
              "      <td>2,189.3</td>\n",
              "      <td>$ 2,189.3</td>\n",
              "      <td>902.8</td>\n",
              "      <td>$ 17.9</td>\n",
              "    </tr>\n",
              "    <tr>\n",
              "      <th>2</th>\n",
              "      <td>2034</td>\n",
              "      <td>thousands</td>\n",
              "      <td>2015</td>\n",
              "      <td>4</td>\n",
              "      <td>2015-12-31</td>\n",
              "      <td>$ 54,349</td>\n",
              "      <td>524,394</td>\n",
              "      <td>$ 238,537</td>\n",
              "      <td>285,857</td>\n",
              "      <td>$ 8,270</td>\n",
              "    </tr>\n",
              "    <tr>\n",
              "      <th>3</th>\n",
              "      <td>2034</td>\n",
              "      <td>thousands</td>\n",
              "      <td>2016</td>\n",
              "      <td>1</td>\n",
              "      <td>2016-03-31</td>\n",
              "      <td>$ 53,093</td>\n",
              "      <td>544,600</td>\n",
              "      <td>$ 245,749</td>\n",
              "      <td>298,851</td>\n",
              "      <td>$ 10,424</td>\n",
              "    </tr>\n",
              "    <tr>\n",
              "      <th>4</th>\n",
              "      <td>2098</td>\n",
              "      <td>thousands</td>\n",
              "      <td>2013</td>\n",
              "      <td>3</td>\n",
              "      <td>2013-09-30</td>\n",
              "      <td>$ 11,809</td>\n",
              "      <td>70,738</td>\n",
              "      <td>36,286</td>\n",
              "      <td>34,452</td>\n",
              "      <td>$ 959</td>\n",
              "    </tr>\n",
              "  </tbody>\n",
              "</table>\n",
              "</div>"
            ],
            "text/plain": [
              "    cik      scale  year  ...  total liabilities total shareholders equity net income\n",
              "0  1750   millions  2012  ...          $ 2,189.3                     902.8     $ 17.9\n",
              "1  1750   millions  2012  ...          $ 2,189.3                     902.8     $ 17.9\n",
              "2  2034  thousands  2015  ...          $ 238,537                   285,857    $ 8,270\n",
              "3  2034  thousands  2016  ...          $ 245,749                   298,851   $ 10,424\n",
              "4  2098  thousands  2013  ...             36,286                    34,452      $ 959\n",
              "\n",
              "[5 rows x 10 columns]"
            ]
          },
          "metadata": {
            "tags": []
          },
          "execution_count": 116
        }
      ]
    },
    {
      "cell_type": "code",
      "metadata": {
        "colab": {
          "base_uri": "https://localhost:8080/",
          "height": 306
        },
        "id": "gfs80zVTb7i9",
        "outputId": "63971044-9cd5-4d1d-aecf-642fcc783f46"
      },
      "source": [
        "#Removing all non-numeric characters so I can convert values to numeric later\n",
        "index_lst=[]\n",
        "for i in range(5,10,1):\n",
        "  for j in range(len(merged)):\n",
        "    merged.iloc[j,i]=merged.iloc[j,i].replace(\"$ \",\"\").replace(\"(\", \"-\").replace(\")\",\"\").replace(\",\", \"\")\n",
        "    #some rows had weird values and I assumed they were all longer than 20 characters\n",
        "    if len(merged.iloc[j,i]) > 20:\n",
        "      index_lst.append(j)\n",
        "merged.drop(index_lst, inplace=True)\n",
        "merged.head()"
      ],
      "execution_count": null,
      "outputs": [
        {
          "output_type": "execute_result",
          "data": {
            "text/html": [
              "<div>\n",
              "<style scoped>\n",
              "    .dataframe tbody tr th:only-of-type {\n",
              "        vertical-align: middle;\n",
              "    }\n",
              "\n",
              "    .dataframe tbody tr th {\n",
              "        vertical-align: top;\n",
              "    }\n",
              "\n",
              "    .dataframe thead th {\n",
              "        text-align: right;\n",
              "    }\n",
              "</style>\n",
              "<table border=\"1\" class=\"dataframe\">\n",
              "  <thead>\n",
              "    <tr style=\"text-align: right;\">\n",
              "      <th></th>\n",
              "      <th>cik</th>\n",
              "      <th>scale</th>\n",
              "      <th>year</th>\n",
              "      <th>qtr</th>\n",
              "      <th>dates</th>\n",
              "      <th>cash equivalents</th>\n",
              "      <th>total assets</th>\n",
              "      <th>total liabilities</th>\n",
              "      <th>total shareholders equity</th>\n",
              "      <th>net income</th>\n",
              "    </tr>\n",
              "  </thead>\n",
              "  <tbody>\n",
              "    <tr>\n",
              "      <th>0</th>\n",
              "      <td>1750</td>\n",
              "      <td>millions</td>\n",
              "      <td>2012</td>\n",
              "      <td>4</td>\n",
              "      <td>2012-11-30</td>\n",
              "      <td>69.2</td>\n",
              "      <td>2189.3</td>\n",
              "      <td>2189.3</td>\n",
              "      <td>902.8</td>\n",
              "      <td>17.9</td>\n",
              "    </tr>\n",
              "    <tr>\n",
              "      <th>1</th>\n",
              "      <td>2034</td>\n",
              "      <td>thousands</td>\n",
              "      <td>2015</td>\n",
              "      <td>4</td>\n",
              "      <td>2015-12-31</td>\n",
              "      <td>54349</td>\n",
              "      <td>524394</td>\n",
              "      <td>238537</td>\n",
              "      <td>285857</td>\n",
              "      <td>8270</td>\n",
              "    </tr>\n",
              "    <tr>\n",
              "      <th>2</th>\n",
              "      <td>2034</td>\n",
              "      <td>thousands</td>\n",
              "      <td>2016</td>\n",
              "      <td>1</td>\n",
              "      <td>2016-03-31</td>\n",
              "      <td>53093</td>\n",
              "      <td>544600</td>\n",
              "      <td>245749</td>\n",
              "      <td>298851</td>\n",
              "      <td>10424</td>\n",
              "    </tr>\n",
              "    <tr>\n",
              "      <th>3</th>\n",
              "      <td>2098</td>\n",
              "      <td>thousands</td>\n",
              "      <td>2013</td>\n",
              "      <td>3</td>\n",
              "      <td>2013-09-30</td>\n",
              "      <td>11809</td>\n",
              "      <td>70738</td>\n",
              "      <td>36286</td>\n",
              "      <td>34452</td>\n",
              "      <td>959</td>\n",
              "    </tr>\n",
              "    <tr>\n",
              "      <th>4</th>\n",
              "      <td>2098</td>\n",
              "      <td>thousands</td>\n",
              "      <td>2015</td>\n",
              "      <td>3</td>\n",
              "      <td>2015-09-30</td>\n",
              "      <td>4621</td>\n",
              "      <td>86585</td>\n",
              "      <td>42878</td>\n",
              "      <td>43707</td>\n",
              "      <td>1208</td>\n",
              "    </tr>\n",
              "  </tbody>\n",
              "</table>\n",
              "</div>"
            ],
            "text/plain": [
              "    cik      scale  year  ...  total liabilities total shareholders equity net income\n",
              "0  1750   millions  2012  ...             2189.3                     902.8       17.9\n",
              "1  2034  thousands  2015  ...             238537                    285857       8270\n",
              "2  2034  thousands  2016  ...             245749                    298851      10424\n",
              "3  2098  thousands  2013  ...              36286                     34452        959\n",
              "4  2098  thousands  2015  ...              42878                     43707       1208\n",
              "\n",
              "[5 rows x 10 columns]"
            ]
          },
          "metadata": {
            "tags": []
          },
          "execution_count": 131
        }
      ]
    },
    {
      "cell_type": "code",
      "metadata": {
        "id": "bX8TRWsyo6tm"
      },
      "source": [
        "#reset the index\n",
        "merged.reset_index(inplace=True)\n",
        "merged.drop('index', axis=1, inplace=True)"
      ],
      "execution_count": null,
      "outputs": []
    },
    {
      "cell_type": "code",
      "metadata": {
        "colab": {
          "base_uri": "https://localhost:8080/",
          "height": 306
        },
        "id": "dLESQhEjfP-6",
        "outputId": "8408a758-14b7-4441-cda4-892587efd722"
      },
      "source": [
        "#change columns to numeric values\n",
        "for i in range(5,10,1):\n",
        "  merged[merged.columns[i]] = merged[merged.columns[i]].astype(float)\n",
        "merged.head()"
      ],
      "execution_count": null,
      "outputs": [
        {
          "output_type": "execute_result",
          "data": {
            "text/html": [
              "<div>\n",
              "<style scoped>\n",
              "    .dataframe tbody tr th:only-of-type {\n",
              "        vertical-align: middle;\n",
              "    }\n",
              "\n",
              "    .dataframe tbody tr th {\n",
              "        vertical-align: top;\n",
              "    }\n",
              "\n",
              "    .dataframe thead th {\n",
              "        text-align: right;\n",
              "    }\n",
              "</style>\n",
              "<table border=\"1\" class=\"dataframe\">\n",
              "  <thead>\n",
              "    <tr style=\"text-align: right;\">\n",
              "      <th></th>\n",
              "      <th>cik</th>\n",
              "      <th>scale</th>\n",
              "      <th>year</th>\n",
              "      <th>qtr</th>\n",
              "      <th>dates</th>\n",
              "      <th>cash equivalents</th>\n",
              "      <th>total assets</th>\n",
              "      <th>total liabilities</th>\n",
              "      <th>total shareholders equity</th>\n",
              "      <th>net income</th>\n",
              "    </tr>\n",
              "  </thead>\n",
              "  <tbody>\n",
              "    <tr>\n",
              "      <th>0</th>\n",
              "      <td>1750</td>\n",
              "      <td>millions</td>\n",
              "      <td>2012</td>\n",
              "      <td>4</td>\n",
              "      <td>2012-11-30</td>\n",
              "      <td>69.2</td>\n",
              "      <td>2189.3</td>\n",
              "      <td>2189.3</td>\n",
              "      <td>902.8</td>\n",
              "      <td>17.9</td>\n",
              "    </tr>\n",
              "    <tr>\n",
              "      <th>1</th>\n",
              "      <td>2034</td>\n",
              "      <td>thousands</td>\n",
              "      <td>2015</td>\n",
              "      <td>4</td>\n",
              "      <td>2015-12-31</td>\n",
              "      <td>54349.0</td>\n",
              "      <td>524394.0</td>\n",
              "      <td>238537.0</td>\n",
              "      <td>285857.0</td>\n",
              "      <td>8270.0</td>\n",
              "    </tr>\n",
              "    <tr>\n",
              "      <th>2</th>\n",
              "      <td>2034</td>\n",
              "      <td>thousands</td>\n",
              "      <td>2016</td>\n",
              "      <td>1</td>\n",
              "      <td>2016-03-31</td>\n",
              "      <td>53093.0</td>\n",
              "      <td>544600.0</td>\n",
              "      <td>245749.0</td>\n",
              "      <td>298851.0</td>\n",
              "      <td>10424.0</td>\n",
              "    </tr>\n",
              "    <tr>\n",
              "      <th>3</th>\n",
              "      <td>2098</td>\n",
              "      <td>thousands</td>\n",
              "      <td>2013</td>\n",
              "      <td>3</td>\n",
              "      <td>2013-09-30</td>\n",
              "      <td>11809.0</td>\n",
              "      <td>70738.0</td>\n",
              "      <td>36286.0</td>\n",
              "      <td>34452.0</td>\n",
              "      <td>959.0</td>\n",
              "    </tr>\n",
              "    <tr>\n",
              "      <th>4</th>\n",
              "      <td>2098</td>\n",
              "      <td>thousands</td>\n",
              "      <td>2015</td>\n",
              "      <td>3</td>\n",
              "      <td>2015-09-30</td>\n",
              "      <td>4621.0</td>\n",
              "      <td>86585.0</td>\n",
              "      <td>42878.0</td>\n",
              "      <td>43707.0</td>\n",
              "      <td>1208.0</td>\n",
              "    </tr>\n",
              "  </tbody>\n",
              "</table>\n",
              "</div>"
            ],
            "text/plain": [
              "    cik      scale  ...  total shareholders equity  net income\n",
              "0  1750   millions  ...                      902.8        17.9\n",
              "1  2034  thousands  ...                   285857.0      8270.0\n",
              "2  2034  thousands  ...                   298851.0     10424.0\n",
              "3  2098  thousands  ...                    34452.0       959.0\n",
              "4  2098  thousands  ...                    43707.0      1208.0\n",
              "\n",
              "[5 rows x 10 columns]"
            ]
          },
          "metadata": {
            "tags": []
          },
          "execution_count": 134
        }
      ]
    },
    {
      "cell_type": "code",
      "metadata": {
        "colab": {
          "base_uri": "https://localhost:8080/",
          "height": 306
        },
        "id": "BgNTAhYopoFk",
        "outputId": "fd2ad726-9c7d-4104-843f-d0e58a6873a8"
      },
      "source": [
        "#multiply by the scale the company reports in so all values are in ones\n",
        "for i in range(len(merged)):\n",
        "  if merged['scale'].iloc[i]=='thousands':\n",
        "    merged.iloc[i, 5:10]=merged.iloc[i, 5:10]*1000\n",
        "  elif merged['scale'].iloc[i]=='millions':\n",
        "    merged.iloc[i, 5:10]=merged.iloc[i, 5:10]*1000000\n",
        "merged.head()"
      ],
      "execution_count": null,
      "outputs": [
        {
          "output_type": "execute_result",
          "data": {
            "text/html": [
              "<div>\n",
              "<style scoped>\n",
              "    .dataframe tbody tr th:only-of-type {\n",
              "        vertical-align: middle;\n",
              "    }\n",
              "\n",
              "    .dataframe tbody tr th {\n",
              "        vertical-align: top;\n",
              "    }\n",
              "\n",
              "    .dataframe thead th {\n",
              "        text-align: right;\n",
              "    }\n",
              "</style>\n",
              "<table border=\"1\" class=\"dataframe\">\n",
              "  <thead>\n",
              "    <tr style=\"text-align: right;\">\n",
              "      <th></th>\n",
              "      <th>cik</th>\n",
              "      <th>scale</th>\n",
              "      <th>year</th>\n",
              "      <th>qtr</th>\n",
              "      <th>dates</th>\n",
              "      <th>cash equivalents</th>\n",
              "      <th>total assets</th>\n",
              "      <th>total liabilities</th>\n",
              "      <th>total shareholders equity</th>\n",
              "      <th>net income</th>\n",
              "    </tr>\n",
              "  </thead>\n",
              "  <tbody>\n",
              "    <tr>\n",
              "      <th>0</th>\n",
              "      <td>1750</td>\n",
              "      <td>millions</td>\n",
              "      <td>2012</td>\n",
              "      <td>4</td>\n",
              "      <td>2012-11-30</td>\n",
              "      <td>69200000.0</td>\n",
              "      <td>2.189300e+09</td>\n",
              "      <td>2.189300e+09</td>\n",
              "      <td>902800000.0</td>\n",
              "      <td>17900000.0</td>\n",
              "    </tr>\n",
              "    <tr>\n",
              "      <th>1</th>\n",
              "      <td>2034</td>\n",
              "      <td>thousands</td>\n",
              "      <td>2015</td>\n",
              "      <td>4</td>\n",
              "      <td>2015-12-31</td>\n",
              "      <td>54349000.0</td>\n",
              "      <td>5.243940e+08</td>\n",
              "      <td>2.385370e+08</td>\n",
              "      <td>285857000.0</td>\n",
              "      <td>8270000.0</td>\n",
              "    </tr>\n",
              "    <tr>\n",
              "      <th>2</th>\n",
              "      <td>2034</td>\n",
              "      <td>thousands</td>\n",
              "      <td>2016</td>\n",
              "      <td>1</td>\n",
              "      <td>2016-03-31</td>\n",
              "      <td>53093000.0</td>\n",
              "      <td>5.446000e+08</td>\n",
              "      <td>2.457490e+08</td>\n",
              "      <td>298851000.0</td>\n",
              "      <td>10424000.0</td>\n",
              "    </tr>\n",
              "    <tr>\n",
              "      <th>3</th>\n",
              "      <td>2098</td>\n",
              "      <td>thousands</td>\n",
              "      <td>2013</td>\n",
              "      <td>3</td>\n",
              "      <td>2013-09-30</td>\n",
              "      <td>11809000.0</td>\n",
              "      <td>7.073800e+07</td>\n",
              "      <td>3.628600e+07</td>\n",
              "      <td>34452000.0</td>\n",
              "      <td>959000.0</td>\n",
              "    </tr>\n",
              "    <tr>\n",
              "      <th>4</th>\n",
              "      <td>2098</td>\n",
              "      <td>thousands</td>\n",
              "      <td>2015</td>\n",
              "      <td>3</td>\n",
              "      <td>2015-09-30</td>\n",
              "      <td>4621000.0</td>\n",
              "      <td>8.658500e+07</td>\n",
              "      <td>4.287800e+07</td>\n",
              "      <td>43707000.0</td>\n",
              "      <td>1208000.0</td>\n",
              "    </tr>\n",
              "  </tbody>\n",
              "</table>\n",
              "</div>"
            ],
            "text/plain": [
              "    cik      scale  ...  total shareholders equity  net income\n",
              "0  1750   millions  ...                902800000.0  17900000.0\n",
              "1  2034  thousands  ...                285857000.0   8270000.0\n",
              "2  2034  thousands  ...                298851000.0  10424000.0\n",
              "3  2098  thousands  ...                 34452000.0    959000.0\n",
              "4  2098  thousands  ...                 43707000.0   1208000.0\n",
              "\n",
              "[5 rows x 10 columns]"
            ]
          },
          "metadata": {
            "tags": []
          },
          "execution_count": 135
        }
      ]
    },
    {
      "cell_type": "code",
      "metadata": {
        "id": "d-AqOu5qyi5T"
      },
      "source": [
        "#check cik, year, qtr (i.e. document) duplicates \n",
        "df = merged.groupby(['cik','year', 'qtr']).size().reset_index().rename(columns={0:'count'})\n",
        "duplicates = df[df['count']>1]"
      ],
      "execution_count": null,
      "outputs": []
    },
    {
      "cell_type": "code",
      "metadata": {
        "id": "mdfh_3kY0WhW"
      },
      "source": [
        "#remove document duplicates by matching them with the cik, year, and quarter from the duplicates dataframe\n",
        "index_lst=[]\n",
        "for i in range(len(duplicates)):\n",
        "  cik = duplicates['cik'].iloc[i]\n",
        "  year = duplicates['year'].iloc[i]\n",
        "  qtr=duplicates['qtr'].iloc[i]\n",
        "  count = duplicates['count'].iloc[i]\n",
        "  for j in range(len(merged)):\n",
        "    if (merged['cik'].iloc[j] == cik) and (merged['year'].iloc[j] == year) and (merged['qtr'].iloc[j] == qtr):\n",
        "      index_range= list(range(j+1, j+count, 1))\n",
        "      for item in index_range:\n",
        "        index_lst.append(item)\n",
        "      break\n",
        "\n",
        "merged.drop(index_lst, inplace=True)\n",
        "merged.reset_index(inplace=True)\n",
        "merged.drop('index', axis=1, inplace=True)"
      ],
      "execution_count": null,
      "outputs": []
    },
    {
      "cell_type": "code",
      "metadata": {
        "id": "fv1sEmW_gPmh"
      },
      "source": [
        "merged.to_csv(cur_path+'reports2.csv', index=False)"
      ],
      "execution_count": null,
      "outputs": []
    },
    {
      "cell_type": "code",
      "metadata": {
        "id": "rWVdAHA5kQpB"
      },
      "source": [
        ""
      ],
      "execution_count": null,
      "outputs": []
    }
  ]
}